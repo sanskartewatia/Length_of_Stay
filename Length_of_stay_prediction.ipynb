{
 "cells": [
  {
   "cell_type": "code",
   "execution_count": 1,
   "metadata": {
    "id": "6HnZG3M7CLVr"
   },
   "outputs": [
    {
     "ename": "ModuleNotFoundError",
     "evalue": "No module named 'pandas'",
     "output_type": "error",
     "traceback": [
      "\u001b[1;31m---------------------------------------------------------------------------\u001b[0m",
      "\u001b[1;31mModuleNotFoundError\u001b[0m                       Traceback (most recent call last)",
      "\u001b[1;32m<ipython-input-1-b478a6fd18e5>\u001b[0m in \u001b[0;36m<module>\u001b[1;34m\u001b[0m\n\u001b[1;32m----> 1\u001b[1;33m \u001b[1;32mimport\u001b[0m \u001b[0mpandas\u001b[0m \u001b[1;32mas\u001b[0m \u001b[0mpd\u001b[0m\u001b[1;33m\u001b[0m\u001b[1;33m\u001b[0m\u001b[0m\n\u001b[0m\u001b[0;32m      2\u001b[0m \u001b[1;32mimport\u001b[0m \u001b[0mnumpy\u001b[0m \u001b[1;32mas\u001b[0m \u001b[0mnp\u001b[0m\u001b[1;33m\u001b[0m\u001b[1;33m\u001b[0m\u001b[0m\n\u001b[0;32m      3\u001b[0m \u001b[1;32mimport\u001b[0m \u001b[0mmatplotlib\u001b[0m\u001b[1;33m.\u001b[0m\u001b[0mpyplot\u001b[0m \u001b[1;32mas\u001b[0m \u001b[0mplt\u001b[0m\u001b[1;33m\u001b[0m\u001b[1;33m\u001b[0m\u001b[0m\n",
      "\u001b[1;31mModuleNotFoundError\u001b[0m: No module named 'pandas'"
     ]
    }
   ],
   "source": [
    "import pandas as pd\n",
    "import numpy as np\n",
    "import matplotlib.pyplot as plt"
   ]
  },
  {
   "cell_type": "code",
   "execution_count": null,
   "metadata": {
    "colab": {
     "base_uri": "https://localhost:8080/"
    },
    "id": "bQs9PGnN5rOW",
    "outputId": "e5e1f87c-7f6f-46df-e329-d111aab28b50"
   },
   "outputs": [
    {
     "name": "stderr",
     "output_type": "stream",
     "text": [
      "/usr/local/lib/python3.7/dist-packages/statsmodels/tools/_testing.py:19: FutureWarning: pandas.util.testing is deprecated. Use the functions in the public API at pandas.testing instead.\n",
      "  import pandas.util.testing as tm\n"
     ]
    }
   ],
   "source": [
    "from sklearn.model_selection import train_test_split\n",
    "from sklearn.metrics import r2_score, mean_squared_error, mean_absolute_error\n",
    "from sklearn.linear_model import LinearRegression\n",
    "\n",
    "import seaborn as sns"
   ]
  },
  {
   "cell_type": "code",
   "execution_count": null,
   "metadata": {
    "colab": {
     "base_uri": "https://localhost:8080/"
    },
    "id": "tO_c0ZvT_mlK",
    "outputId": "f60ef886-e8b7-47bf-de9a-3a5db6c772b1"
   },
   "outputs": [
    {
     "name": "stdout",
     "output_type": "stream",
     "text": [
      "data\t\t\t\tmisc\t\t   README.md\t     task2.csv\n",
      "images\t\t\t\tML_tutorial.ipynb  requirements.txt\n",
      "Machine-Learning-in-Healthcare\tML_tutorial.pdf    task1.csv\n"
     ]
    }
   ],
   "source": [
    "!ls"
   ]
  },
  {
   "cell_type": "code",
   "execution_count": null,
   "metadata": {
    "colab": {
     "base_uri": "https://localhost:8080/"
    },
    "id": "cXZR02GX_ulx",
    "outputId": "52eff9bd-f599-40fe-ad32-cc8f1ab53435"
   },
   "outputs": [
    {
     "name": "stdout",
     "output_type": "stream",
     "text": [
      "/content/Machine-Learning-in-Healthcare/Machine-Learning-in-Healthcare\n"
     ]
    }
   ],
   "source": [
    "%cd Machine-Learning-in-Healthcare"
   ]
  },
  {
   "cell_type": "code",
   "execution_count": null,
   "metadata": {
    "colab": {
     "base_uri": "https://localhost:8080/"
    },
    "id": "s7I7Nz6Q_x0y",
    "outputId": "8acba028-f5b4-47cd-89fb-0440fcf9c1dd"
   },
   "outputs": [
    {
     "name": "stdout",
     "output_type": "stream",
     "text": [
      "data\tmisc\t\t   ML_tutorial.pdf  requirements.txt  task2.csv\n",
      "images\tML_tutorial.ipynb  README.md\t    task1.csv\n"
     ]
    }
   ],
   "source": [
    "!ls\n"
   ]
  },
  {
   "cell_type": "code",
   "execution_count": null,
   "metadata": {
    "id": "OHWQNgun_0ss"
   },
   "outputs": [],
   "source": [
    "df = pd.read_csv('dataset_1.csv')\n"
   ]
  },
  {
   "cell_type": "code",
   "execution_count": null,
   "metadata": {
    "colab": {
     "base_uri": "https://localhost:8080/"
    },
    "id": "Ekv48vjw_2Nu",
    "outputId": "97741240-c0b6-4f86-a389-3bddea351cf8"
   },
   "outputs": [
    {
     "data": {
      "text/plain": [
       "LOS                           float64\n",
       "blood                         float64\n",
       "circulatory                   float64\n",
       "congenital                    float64\n",
       "digestive                     float64\n",
       "endocrine                     float64\n",
       "genitourinary                 float64\n",
       "infectious                    float64\n",
       "injury                        float64\n",
       "mental                        float64\n",
       "misc                          float64\n",
       "muscular                      float64\n",
       "neoplasms                     float64\n",
       "nervous                       float64\n",
       "pregnancy                     float64\n",
       "prenatal                      float64\n",
       "respiratory                   float64\n",
       "skin                          float64\n",
       "GENDER                        float64\n",
       "ICU                           float64\n",
       "NICU                          float64\n",
       "ADM_ELECTIVE                    int64\n",
       "ADM_EMERGENCY                   int64\n",
       "ADM_NEWBORN                     int64\n",
       "ADM_URGENT                      int64\n",
       "INS_Government                  int64\n",
       "INS_Medicaid                    int64\n",
       "INS_Medicare                    int64\n",
       "INS_Private                     int64\n",
       "INS_Self Pay                    int64\n",
       "REL_NOT SPECIFIED               int64\n",
       "REL_RELIGIOUS                   int64\n",
       "REL_UNOBTAINABLE                int64\n",
       "ETH_ASIAN                       int64\n",
       "ETH_BLACK/AFRICAN AMERICAN      int64\n",
       "ETH_HISPANIC/LATINO             int64\n",
       "ETH_OTHER/UNKNOWN               int64\n",
       "ETH_WHITE                       int64\n",
       "AGE_middle_adult                int64\n",
       "AGE_newborn                     int64\n",
       "AGE_senior                      int64\n",
       "AGE_young_adult                 int64\n",
       "MAR_DIVORCED                    int64\n",
       "MAR_LIFE PARTNER                int64\n",
       "MAR_MARRIED                     int64\n",
       "MAR_SEPARATED                   int64\n",
       "MAR_SINGLE                      int64\n",
       "MAR_UNKNOWN (DEFAULT)           int64\n",
       "MAR_WIDOWED                     int64\n",
       "dtype: object"
      ]
     },
     "execution_count": 44,
     "metadata": {
      "tags": []
     },
     "output_type": "execute_result"
    }
   ],
   "source": [
    "df.dtypes\n"
   ]
  },
  {
   "cell_type": "code",
   "execution_count": null,
   "metadata": {
    "colab": {
     "base_uri": "https://localhost:8080/",
     "height": 265
    },
    "id": "G13ltxUW_3ez",
    "outputId": "82547439-9b6c-43d0-90e9-80343d73ba84"
   },
   "outputs": [
    {
     "data": {
      "image/png": "[encoded data removed]",
      "text/plain": [
       "<Figure size 432x288 with 1 Axes>"
      ]
     },
     "metadata": {
      "needs_background": "light",
      "tags": []
     },
     "output_type": "display_data"
    }
   ],
   "source": [
    "df.boxplot(column=['LOS','GENDER'], return_type='axes');"
   ]
  },
  {
   "cell_type": "code",
   "execution_count": null,
   "metadata": {
    "colab": {
     "base_uri": "https://localhost:8080/"
    },
    "id": "RFgqUGvMBtdD",
    "outputId": "5112cd85-091a-4e84-f3e1-8d44d3a41e82"
   },
   "outputs": [
    {
     "name": "stdout",
     "output_type": "stream",
     "text": [
      "ADMISSIONS.csv\tDIAGNOSES_ICD.csv  ICUSTAYS.csv  PATIENTS.csv\n"
     ]
    }
   ],
   "source": [
    "!ls"
   ]
  },
  {
   "cell_type": "code",
   "execution_count": null,
   "metadata": {
    "colab": {
     "base_uri": "https://localhost:8080/",
     "height": 372
    },
    "id": "mYGLxe9XBu11",
    "outputId": "fc76ed00-3df4-4df8-e68b-b64f09d317ac"
   },
   "outputs": [
    {
     "name": "stderr",
     "output_type": "stream",
     "text": [
      "/usr/local/lib/python3.7/dist-packages/numpy/core/_asarray.py:83: VisibleDeprecationWarning: Creating an ndarray from ragged nested sequences (which is a list-or-tuple of lists-or-tuples-or ndarrays with different lengths or shapes) is deprecated. If you meant to do this, you must specify 'dtype=object' when creating the ndarray\n",
      "  return array(a, dtype, copy=False, order=order)\n"
     ]
    },
    {
     "data": {
      "text/plain": [
       "<matplotlib.axes._subplots.AxesSubplot at 0x7f99f335c750>"
      ]
     },
     "execution_count": 13,
     "metadata": {
      "tags": []
     },
     "output_type": "execute_result"
    },
    {
     "data": {
      "image/png": "[encoded data removed]",
      "text/plain": [
       "<Figure size 432x288 with 1 Axes>"
      ]
     },
     "metadata": {
      "needs_background": "light",
      "tags": []
     },
     "output_type": "display_data"
    }
   ],
   "source": [
    "df.boxplot(by ='ICU', column =['LOS'], grid = False) "
   ]
  },
  {
   "cell_type": "code",
   "execution_count": null,
   "metadata": {
    "colab": {
     "base_uri": "https://localhost:8080/"
    },
    "id": "WlA2rIwd_GBv",
    "outputId": "2ee57c77-b9e3-47b5-9be2-d96cfa906c70"
   },
   "outputs": [
    {
     "data": {
      "text/plain": [
       "LOS                           24020\n",
       "blood                             7\n",
       "circulatory                      17\n",
       "congenital                       10\n",
       "digestive                        12\n",
       "endocrine                        12\n",
       "genitourinary                     8\n",
       "infectious                        8\n",
       "injury                           23\n",
       "mental                           12\n",
       "misc                              9\n",
       "muscular                          8\n",
       "neoplasms                        11\n",
       "nervous                           9\n",
       "pregnancy                        14\n",
       "prenatal                         17\n",
       "respiratory                      10\n",
       "skin                              9\n",
       "GENDER                            2\n",
       "ICU                               2\n",
       "NICU                              2\n",
       "ADM_ELECTIVE                      2\n",
       "ADM_EMERGENCY                     2\n",
       "ADM_NEWBORN                       2\n",
       "ADM_URGENT                        2\n",
       "INS_Government                    2\n",
       "INS_Medicaid                      2\n",
       "INS_Medicare                      2\n",
       "INS_Private                       2\n",
       "INS_Self Pay                      2\n",
       "REL_NOT SPECIFIED                 2\n",
       "REL_RELIGIOUS                     2\n",
       "REL_UNOBTAINABLE                  2\n",
       "ETH_ASIAN                         2\n",
       "ETH_BLACK/AFRICAN AMERICAN        2\n",
       "ETH_HISPANIC/LATINO               2\n",
       "ETH_OTHER/UNKNOWN                 2\n",
       "ETH_WHITE                         2\n",
       "AGE_middle_adult                  2\n",
       "AGE_newborn                       2\n",
       "AGE_senior                        2\n",
       "AGE_young_adult                   2\n",
       "MAR_DIVORCED                      2\n",
       "MAR_LIFE PARTNER                  2\n",
       "MAR_MARRIED                       2\n",
       "MAR_SEPARATED                     2\n",
       "MAR_SINGLE                        2\n",
       "MAR_UNKNOWN (DEFAULT)             2\n",
       "MAR_WIDOWED                       2\n",
       "dtype: int64"
      ]
     },
     "execution_count": 48,
     "metadata": {
      "tags": []
     },
     "output_type": "execute_result"
    }
   ],
   "source": [
    "df.nunique()"
   ]
  },
  {
   "cell_type": "code",
   "execution_count": null,
   "metadata": {
    "colab": {
     "base_uri": "https://localhost:8080/",
     "height": 334
    },
    "id": "gMZb92HK09aB",
    "outputId": "009872d7-fe79-4d71-fb43-7c725ad537f1"
   },
   "outputs": [
    {
     "data": {
      "text/html": [
       "<div>\n",
       "<style scoped>\n",
       "    .dataframe tbody tr th:only-of-type {\n",
       "        vertical-align: middle;\n",
       "    }\n",
       "\n",
       "    .dataframe tbody tr th {\n",
       "        vertical-align: top;\n",
       "    }\n",
       "\n",
       "    .dataframe thead th {\n",
       "        text-align: right;\n",
       "    }\n",
       "</style>\n",
       "<table border=\"1\" class=\"dataframe\">\n",
       "  <thead>\n",
       "    <tr style=\"text-align: right;\">\n",
       "      <th></th>\n",
       "      <th>LOS</th>\n",
       "      <th>blood</th>\n",
       "      <th>circulatory</th>\n",
       "      <th>congenital</th>\n",
       "      <th>digestive</th>\n",
       "      <th>endocrine</th>\n",
       "      <th>genitourinary</th>\n",
       "      <th>infectious</th>\n",
       "      <th>injury</th>\n",
       "      <th>mental</th>\n",
       "      <th>misc</th>\n",
       "      <th>muscular</th>\n",
       "      <th>neoplasms</th>\n",
       "      <th>nervous</th>\n",
       "      <th>pregnancy</th>\n",
       "      <th>prenatal</th>\n",
       "      <th>respiratory</th>\n",
       "      <th>skin</th>\n",
       "      <th>GENDER</th>\n",
       "      <th>ICU</th>\n",
       "      <th>NICU</th>\n",
       "      <th>ADM_ELECTIVE</th>\n",
       "      <th>ADM_EMERGENCY</th>\n",
       "      <th>ADM_NEWBORN</th>\n",
       "      <th>ADM_URGENT</th>\n",
       "      <th>INS_Government</th>\n",
       "      <th>INS_Medicaid</th>\n",
       "      <th>INS_Medicare</th>\n",
       "      <th>INS_Private</th>\n",
       "      <th>INS_Self Pay</th>\n",
       "      <th>REL_NOT SPECIFIED</th>\n",
       "      <th>REL_RELIGIOUS</th>\n",
       "      <th>REL_UNOBTAINABLE</th>\n",
       "      <th>ETH_ASIAN</th>\n",
       "      <th>ETH_BLACK/AFRICAN AMERICAN</th>\n",
       "      <th>ETH_HISPANIC/LATINO</th>\n",
       "      <th>ETH_OTHER/UNKNOWN</th>\n",
       "      <th>ETH_WHITE</th>\n",
       "      <th>AGE_middle_adult</th>\n",
       "      <th>AGE_newborn</th>\n",
       "      <th>AGE_senior</th>\n",
       "      <th>AGE_young_adult</th>\n",
       "      <th>MAR_DIVORCED</th>\n",
       "      <th>MAR_LIFE PARTNER</th>\n",
       "      <th>MAR_MARRIED</th>\n",
       "      <th>MAR_SEPARATED</th>\n",
       "      <th>MAR_SINGLE</th>\n",
       "      <th>MAR_UNKNOWN (DEFAULT)</th>\n",
       "      <th>MAR_WIDOWED</th>\n",
       "    </tr>\n",
       "  </thead>\n",
       "  <tbody>\n",
       "    <tr>\n",
       "      <th>count</th>\n",
       "      <td>51037.000000</td>\n",
       "      <td>51037.000000</td>\n",
       "      <td>51037.000000</td>\n",
       "      <td>51037.000000</td>\n",
       "      <td>51037.000000</td>\n",
       "      <td>51037.000000</td>\n",
       "      <td>51037.000000</td>\n",
       "      <td>51037.000000</td>\n",
       "      <td>51037.000000</td>\n",
       "      <td>51037.000000</td>\n",
       "      <td>51037.000000</td>\n",
       "      <td>51037.000000</td>\n",
       "      <td>51037.000000</td>\n",
       "      <td>51037.000000</td>\n",
       "      <td>51037.000000</td>\n",
       "      <td>51037.000000</td>\n",
       "      <td>51037.000000</td>\n",
       "      <td>51037.000000</td>\n",
       "      <td>51037.000000</td>\n",
       "      <td>51037.000000</td>\n",
       "      <td>51037.000000</td>\n",
       "      <td>51037.000000</td>\n",
       "      <td>51037.000000</td>\n",
       "      <td>51037.000000</td>\n",
       "      <td>51037.000000</td>\n",
       "      <td>51037.000000</td>\n",
       "      <td>51037.000000</td>\n",
       "      <td>51037.000000</td>\n",
       "      <td>51037.000000</td>\n",
       "      <td>51037.000000</td>\n",
       "      <td>51037.000000</td>\n",
       "      <td>51037.000000</td>\n",
       "      <td>51037.000000</td>\n",
       "      <td>51037.000000</td>\n",
       "      <td>51037.000000</td>\n",
       "      <td>51037.000000</td>\n",
       "      <td>51037.000000</td>\n",
       "      <td>51037.000000</td>\n",
       "      <td>51037.000000</td>\n",
       "      <td>51037.000000</td>\n",
       "      <td>51037.000000</td>\n",
       "      <td>51037.000000</td>\n",
       "      <td>51037.000000</td>\n",
       "      <td>51037.000000</td>\n",
       "      <td>51037.000000</td>\n",
       "      <td>51037.000000</td>\n",
       "      <td>51037.000000</td>\n",
       "      <td>51037.000000</td>\n",
       "      <td>51037.000000</td>\n",
       "    </tr>\n",
       "    <tr>\n",
       "      <th>mean</th>\n",
       "      <td>10.228510</td>\n",
       "      <td>0.370711</td>\n",
       "      <td>2.260007</td>\n",
       "      <td>0.077121</td>\n",
       "      <td>0.617591</td>\n",
       "      <td>1.175030</td>\n",
       "      <td>0.503968</td>\n",
       "      <td>0.308502</td>\n",
       "      <td>2.362698</td>\n",
       "      <td>0.428963</td>\n",
       "      <td>0.371358</td>\n",
       "      <td>0.213943</td>\n",
       "      <td>0.219958</td>\n",
       "      <td>0.376727</td>\n",
       "      <td>0.012893</td>\n",
       "      <td>0.483688</td>\n",
       "      <td>0.683073</td>\n",
       "      <td>0.148794</td>\n",
       "      <td>0.431413</td>\n",
       "      <td>0.823030</td>\n",
       "      <td>0.155260</td>\n",
       "      <td>0.144993</td>\n",
       "      <td>0.679860</td>\n",
       "      <td>0.152772</td>\n",
       "      <td>0.022376</td>\n",
       "      <td>0.033172</td>\n",
       "      <td>0.105512</td>\n",
       "      <td>0.437232</td>\n",
       "      <td>0.414092</td>\n",
       "      <td>0.009993</td>\n",
       "      <td>0.206125</td>\n",
       "      <td>0.657112</td>\n",
       "      <td>0.136764</td>\n",
       "      <td>0.035464</td>\n",
       "      <td>0.102847</td>\n",
       "      <td>0.039109</td>\n",
       "      <td>0.127417</td>\n",
       "      <td>0.695162</td>\n",
       "      <td>0.230264</td>\n",
       "      <td>0.157572</td>\n",
       "      <td>0.533103</td>\n",
       "      <td>0.079060</td>\n",
       "      <td>0.056136</td>\n",
       "      <td>0.000294</td>\n",
       "      <td>0.412916</td>\n",
       "      <td>0.010052</td>\n",
       "      <td>0.232929</td>\n",
       "      <td>0.188726</td>\n",
       "      <td>0.098948</td>\n",
       "    </tr>\n",
       "    <tr>\n",
       "      <th>std</th>\n",
       "      <td>12.461440</td>\n",
       "      <td>0.652278</td>\n",
       "      <td>2.255679</td>\n",
       "      <td>0.357821</td>\n",
       "      <td>1.119265</td>\n",
       "      <td>1.345073</td>\n",
       "      <td>0.845481</td>\n",
       "      <td>0.670549</td>\n",
       "      <td>2.206709</td>\n",
       "      <td>0.856638</td>\n",
       "      <td>0.723226</td>\n",
       "      <td>0.558986</td>\n",
       "      <td>0.661356</td>\n",
       "      <td>0.759707</td>\n",
       "      <td>0.265499</td>\n",
       "      <td>1.396364</td>\n",
       "      <td>1.054149</td>\n",
       "      <td>0.503185</td>\n",
       "      <td>0.495278</td>\n",
       "      <td>0.381647</td>\n",
       "      <td>0.362156</td>\n",
       "      <td>0.352097</td>\n",
       "      <td>0.466535</td>\n",
       "      <td>0.359771</td>\n",
       "      <td>0.147904</td>\n",
       "      <td>0.179087</td>\n",
       "      <td>0.307215</td>\n",
       "      <td>0.496049</td>\n",
       "      <td>0.492569</td>\n",
       "      <td>0.099464</td>\n",
       "      <td>0.404525</td>\n",
       "      <td>0.474679</td>\n",
       "      <td>0.343601</td>\n",
       "      <td>0.184952</td>\n",
       "      <td>0.303762</td>\n",
       "      <td>0.193856</td>\n",
       "      <td>0.333443</td>\n",
       "      <td>0.460343</td>\n",
       "      <td>0.421006</td>\n",
       "      <td>0.364343</td>\n",
       "      <td>0.498908</td>\n",
       "      <td>0.269835</td>\n",
       "      <td>0.230186</td>\n",
       "      <td>0.017141</td>\n",
       "      <td>0.492363</td>\n",
       "      <td>0.099753</td>\n",
       "      <td>0.422702</td>\n",
       "      <td>0.391295</td>\n",
       "      <td>0.298595</td>\n",
       "    </tr>\n",
       "    <tr>\n",
       "      <th>min</th>\n",
       "      <td>0.014583</td>\n",
       "      <td>0.000000</td>\n",
       "      <td>0.000000</td>\n",
       "      <td>0.000000</td>\n",
       "      <td>0.000000</td>\n",
       "      <td>0.000000</td>\n",
       "      <td>0.000000</td>\n",
       "      <td>0.000000</td>\n",
       "      <td>0.000000</td>\n",
       "      <td>0.000000</td>\n",
       "      <td>0.000000</td>\n",
       "      <td>0.000000</td>\n",
       "      <td>0.000000</td>\n",
       "      <td>0.000000</td>\n",
       "      <td>0.000000</td>\n",
       "      <td>0.000000</td>\n",
       "      <td>0.000000</td>\n",
       "      <td>0.000000</td>\n",
       "      <td>0.000000</td>\n",
       "      <td>0.000000</td>\n",
       "      <td>0.000000</td>\n",
       "      <td>0.000000</td>\n",
       "      <td>0.000000</td>\n",
       "      <td>0.000000</td>\n",
       "      <td>0.000000</td>\n",
       "      <td>0.000000</td>\n",
       "      <td>0.000000</td>\n",
       "      <td>0.000000</td>\n",
       "      <td>0.000000</td>\n",
       "      <td>0.000000</td>\n",
       "      <td>0.000000</td>\n",
       "      <td>0.000000</td>\n",
       "      <td>0.000000</td>\n",
       "      <td>0.000000</td>\n",
       "      <td>0.000000</td>\n",
       "      <td>0.000000</td>\n",
       "      <td>0.000000</td>\n",
       "      <td>0.000000</td>\n",
       "      <td>0.000000</td>\n",
       "      <td>0.000000</td>\n",
       "      <td>0.000000</td>\n",
       "      <td>0.000000</td>\n",
       "      <td>0.000000</td>\n",
       "      <td>0.000000</td>\n",
       "      <td>0.000000</td>\n",
       "      <td>0.000000</td>\n",
       "      <td>0.000000</td>\n",
       "      <td>0.000000</td>\n",
       "      <td>0.000000</td>\n",
       "    </tr>\n",
       "    <tr>\n",
       "      <th>25%</th>\n",
       "      <td>3.857639</td>\n",
       "      <td>0.000000</td>\n",
       "      <td>0.000000</td>\n",
       "      <td>0.000000</td>\n",
       "      <td>0.000000</td>\n",
       "      <td>0.000000</td>\n",
       "      <td>0.000000</td>\n",
       "      <td>0.000000</td>\n",
       "      <td>1.000000</td>\n",
       "      <td>0.000000</td>\n",
       "      <td>0.000000</td>\n",
       "      <td>0.000000</td>\n",
       "      <td>0.000000</td>\n",
       "      <td>0.000000</td>\n",
       "      <td>0.000000</td>\n",
       "      <td>0.000000</td>\n",
       "      <td>0.000000</td>\n",
       "      <td>0.000000</td>\n",
       "      <td>0.000000</td>\n",
       "      <td>1.000000</td>\n",
       "      <td>0.000000</td>\n",
       "      <td>0.000000</td>\n",
       "      <td>0.000000</td>\n",
       "      <td>0.000000</td>\n",
       "      <td>0.000000</td>\n",
       "      <td>0.000000</td>\n",
       "      <td>0.000000</td>\n",
       "      <td>0.000000</td>\n",
       "      <td>0.000000</td>\n",
       "      <td>0.000000</td>\n",
       "      <td>0.000000</td>\n",
       "      <td>0.000000</td>\n",
       "      <td>0.000000</td>\n",
       "      <td>0.000000</td>\n",
       "      <td>0.000000</td>\n",
       "      <td>0.000000</td>\n",
       "      <td>0.000000</td>\n",
       "      <td>0.000000</td>\n",
       "      <td>0.000000</td>\n",
       "      <td>0.000000</td>\n",
       "      <td>0.000000</td>\n",
       "      <td>0.000000</td>\n",
       "      <td>0.000000</td>\n",
       "      <td>0.000000</td>\n",
       "      <td>0.000000</td>\n",
       "      <td>0.000000</td>\n",
       "      <td>0.000000</td>\n",
       "      <td>0.000000</td>\n",
       "      <td>0.000000</td>\n",
       "    </tr>\n",
       "    <tr>\n",
       "      <th>50%</th>\n",
       "      <td>6.583333</td>\n",
       "      <td>0.000000</td>\n",
       "      <td>2.000000</td>\n",
       "      <td>0.000000</td>\n",
       "      <td>0.000000</td>\n",
       "      <td>1.000000</td>\n",
       "      <td>0.000000</td>\n",
       "      <td>0.000000</td>\n",
       "      <td>2.000000</td>\n",
       "      <td>0.000000</td>\n",
       "      <td>0.000000</td>\n",
       "      <td>0.000000</td>\n",
       "      <td>0.000000</td>\n",
       "      <td>0.000000</td>\n",
       "      <td>0.000000</td>\n",
       "      <td>0.000000</td>\n",
       "      <td>0.000000</td>\n",
       "      <td>0.000000</td>\n",
       "      <td>0.000000</td>\n",
       "      <td>1.000000</td>\n",
       "      <td>0.000000</td>\n",
       "      <td>0.000000</td>\n",
       "      <td>1.000000</td>\n",
       "      <td>0.000000</td>\n",
       "      <td>0.000000</td>\n",
       "      <td>0.000000</td>\n",
       "      <td>0.000000</td>\n",
       "      <td>0.000000</td>\n",
       "      <td>0.000000</td>\n",
       "      <td>0.000000</td>\n",
       "      <td>0.000000</td>\n",
       "      <td>1.000000</td>\n",
       "      <td>0.000000</td>\n",
       "      <td>0.000000</td>\n",
       "      <td>0.000000</td>\n",
       "      <td>0.000000</td>\n",
       "      <td>0.000000</td>\n",
       "      <td>1.000000</td>\n",
       "      <td>0.000000</td>\n",
       "      <td>0.000000</td>\n",
       "      <td>1.000000</td>\n",
       "      <td>0.000000</td>\n",
       "      <td>0.000000</td>\n",
       "      <td>0.000000</td>\n",
       "      <td>0.000000</td>\n",
       "      <td>0.000000</td>\n",
       "      <td>0.000000</td>\n",
       "      <td>0.000000</td>\n",
       "      <td>0.000000</td>\n",
       "    </tr>\n",
       "    <tr>\n",
       "      <th>75%</th>\n",
       "      <td>11.805556</td>\n",
       "      <td>1.000000</td>\n",
       "      <td>4.000000</td>\n",
       "      <td>0.000000</td>\n",
       "      <td>1.000000</td>\n",
       "      <td>2.000000</td>\n",
       "      <td>1.000000</td>\n",
       "      <td>0.000000</td>\n",
       "      <td>3.000000</td>\n",
       "      <td>1.000000</td>\n",
       "      <td>1.000000</td>\n",
       "      <td>0.000000</td>\n",
       "      <td>0.000000</td>\n",
       "      <td>1.000000</td>\n",
       "      <td>0.000000</td>\n",
       "      <td>0.000000</td>\n",
       "      <td>1.000000</td>\n",
       "      <td>0.000000</td>\n",
       "      <td>1.000000</td>\n",
       "      <td>1.000000</td>\n",
       "      <td>0.000000</td>\n",
       "      <td>0.000000</td>\n",
       "      <td>1.000000</td>\n",
       "      <td>0.000000</td>\n",
       "      <td>0.000000</td>\n",
       "      <td>0.000000</td>\n",
       "      <td>0.000000</td>\n",
       "      <td>1.000000</td>\n",
       "      <td>1.000000</td>\n",
       "      <td>0.000000</td>\n",
       "      <td>0.000000</td>\n",
       "      <td>1.000000</td>\n",
       "      <td>0.000000</td>\n",
       "      <td>0.000000</td>\n",
       "      <td>0.000000</td>\n",
       "      <td>0.000000</td>\n",
       "      <td>0.000000</td>\n",
       "      <td>1.000000</td>\n",
       "      <td>0.000000</td>\n",
       "      <td>0.000000</td>\n",
       "      <td>1.000000</td>\n",
       "      <td>0.000000</td>\n",
       "      <td>0.000000</td>\n",
       "      <td>0.000000</td>\n",
       "      <td>1.000000</td>\n",
       "      <td>0.000000</td>\n",
       "      <td>0.000000</td>\n",
       "      <td>0.000000</td>\n",
       "      <td>0.000000</td>\n",
       "    </tr>\n",
       "    <tr>\n",
       "      <th>max</th>\n",
       "      <td>294.660417</td>\n",
       "      <td>6.000000</td>\n",
       "      <td>16.000000</td>\n",
       "      <td>11.000000</td>\n",
       "      <td>11.000000</td>\n",
       "      <td>12.000000</td>\n",
       "      <td>7.000000</td>\n",
       "      <td>7.000000</td>\n",
       "      <td>23.000000</td>\n",
       "      <td>11.000000</td>\n",
       "      <td>8.000000</td>\n",
       "      <td>7.000000</td>\n",
       "      <td>10.000000</td>\n",
       "      <td>8.000000</td>\n",
       "      <td>13.000000</td>\n",
       "      <td>16.000000</td>\n",
       "      <td>9.000000</td>\n",
       "      <td>9.000000</td>\n",
       "      <td>1.000000</td>\n",
       "      <td>1.000000</td>\n",
       "      <td>1.000000</td>\n",
       "      <td>1.000000</td>\n",
       "      <td>1.000000</td>\n",
       "      <td>1.000000</td>\n",
       "      <td>1.000000</td>\n",
       "      <td>1.000000</td>\n",
       "      <td>1.000000</td>\n",
       "      <td>1.000000</td>\n",
       "      <td>1.000000</td>\n",
       "      <td>1.000000</td>\n",
       "      <td>1.000000</td>\n",
       "      <td>1.000000</td>\n",
       "      <td>1.000000</td>\n",
       "      <td>1.000000</td>\n",
       "      <td>1.000000</td>\n",
       "      <td>1.000000</td>\n",
       "      <td>1.000000</td>\n",
       "      <td>1.000000</td>\n",
       "      <td>1.000000</td>\n",
       "      <td>1.000000</td>\n",
       "      <td>1.000000</td>\n",
       "      <td>1.000000</td>\n",
       "      <td>1.000000</td>\n",
       "      <td>1.000000</td>\n",
       "      <td>1.000000</td>\n",
       "      <td>1.000000</td>\n",
       "      <td>1.000000</td>\n",
       "      <td>1.000000</td>\n",
       "      <td>1.000000</td>\n",
       "    </tr>\n",
       "  </tbody>\n",
       "</table>\n",
       "</div>"
      ],
      "text/plain": [
       "                LOS         blood  ...  MAR_UNKNOWN (DEFAULT)   MAR_WIDOWED\n",
       "count  51037.000000  51037.000000  ...           51037.000000  51037.000000\n",
       "mean      10.228510      0.370711  ...               0.188726      0.098948\n",
       "std       12.461440      0.652278  ...               0.391295      0.298595\n",
       "min        0.014583      0.000000  ...               0.000000      0.000000\n",
       "25%        3.857639      0.000000  ...               0.000000      0.000000\n",
       "50%        6.583333      0.000000  ...               0.000000      0.000000\n",
       "75%       11.805556      1.000000  ...               0.000000      0.000000\n",
       "max      294.660417      6.000000  ...               1.000000      1.000000\n",
       "\n",
       "[8 rows x 49 columns]"
      ]
     },
     "execution_count": 14,
     "metadata": {
      "tags": []
     },
     "output_type": "execute_result"
    }
   ],
   "source": [
    "df.describe()"
   ]
  },
  {
   "cell_type": "code",
   "execution_count": null,
   "metadata": {
    "id": "3tCAMQ8v2YuS"
   },
   "outputs": [],
   "source": [
    "LOS = df['LOS'].values\n",
    "features = df.drop(columns=['LOS'])"
   ]
  },
  {
   "cell_type": "code",
   "execution_count": null,
   "metadata": {
    "colab": {
     "base_uri": "https://localhost:8080/"
    },
    "id": "mIs1QZZF5eZX",
    "outputId": "f8276a01-673c-430c-e5ac-24cf54b976c1"
   },
   "outputs": [
    {
     "data": {
      "text/plain": [
       "0"
      ]
     },
     "execution_count": 17,
     "metadata": {
      "tags": []
     },
     "output_type": "execute_result"
    }
   ],
   "source": [
    "df.isnull().values.sum()"
   ]
  },
  {
   "cell_type": "code",
   "execution_count": null,
   "metadata": {
    "colab": {
     "base_uri": "https://localhost:8080/"
    },
    "id": "3njRbk0h5m6N",
    "outputId": "1b92ec1f-4617-40ff-cb05-a3f930473ba7"
   },
   "outputs": [
    {
     "name": "stdout",
     "output_type": "stream",
     "text": [
      "Training set has 40829 samples.\n",
      "Testing set has 10208 samples.\n"
     ]
    }
   ],
   "source": [
    "x_train, x_test, y_train, y_test = train_test_split(features, \n",
    "                                                    LOS, \n",
    "                                                    test_size = .20, \n",
    "                                                    random_state = 0)\n",
    "\n",
    "# Show the results of the split\n",
    "print(\"Training set has {} samples.\".format(x_train.shape[0]))\n",
    "print(\"Testing set has {} samples.\".format(x_test.shape[0]))\n"
   ]
  },
  {
   "cell_type": "code",
   "execution_count": null,
   "metadata": {
    "colab": {
     "base_uri": "https://localhost:8080/"
    },
    "id": "TF_LdlqH5xp9",
    "outputId": "f15295e9-6f35-4f1b-f1d9-6218b759dfff"
   },
   "outputs": [
    {
     "name": "stdout",
     "output_type": "stream",
     "text": [
      "LinearRegression done.\n"
     ]
    }
   ],
   "source": [
    "ml_models = [LinearRegression(),]\n",
    "\n",
    "results = {}\n",
    "\n",
    "for model in ml_models:\n",
    "    \n",
    "    # Instantiate and fit Regressor Model\n",
    "    reg_model = model\n",
    "    reg_model.fit(x_train, y_train)\n",
    "    \n",
    "    # Make predictions with model\n",
    "    y_test_preds = reg_model.predict(x_test)\n",
    "    \n",
    "    # Grab model name and store results associated with model\n",
    "    name = str(model).split(\"(\")[0]\n",
    "\n",
    "    results[name] = r2_score(y_test, y_test_preds)\n",
    "    print('{} done.'.format(name))"
   ]
  },
  {
   "cell_type": "code",
   "execution_count": null,
   "metadata": {
    "colab": {
     "base_uri": "https://localhost:8080/"
    },
    "id": "6CovkGAP6gV0",
    "outputId": "028e81ea-c24a-472f-f117-a40aef0349fc"
   },
   "outputs": [
    {
     "name": "stdout",
     "output_type": "stream",
     "text": [
      "R2 Score\n",
      "LinearRegression : 0.35051452128519556\n"
     ]
    }
   ],
   "source": [
    "print('R2 Score')\n",
    "for i in results.keys():\n",
    "    print('{} : {}'.format(i,results[i]))"
   ]
  },
  {
   "cell_type": "code",
   "execution_count": null,
   "metadata": {
    "id": "K7LKRx-16jTf"
   },
   "outputs": [],
   "source": [
    "from sklearn.metrics import accuracy_score\n",
    "\n",
    "\n",
    "\n"
   ]
  },
  {
   "cell_type": "code",
   "execution_count": null,
   "metadata": {
    "colab": {
     "base_uri": "https://localhost:8080/"
    },
    "id": "XUTjMutc99HN",
    "outputId": "3410febc-9332-47ef-84cb-a342e04bc931"
   },
   "outputs": [
    {
     "name": "stdout",
     "output_type": "stream",
     "text": [
      "int64      28\n",
      "float64    21\n",
      "dtype: int64\n"
     ]
    }
   ],
   "source": [
    "print(df.dtypes.astype(str).value_counts())"
   ]
  },
  {
   "cell_type": "code",
   "execution_count": null,
   "metadata": {
    "id": "Ur4IX5kKF77T"
   },
   "outputs": [],
   "source": []
  }
 ],
 "metadata": {
  "colab": {
   "name": "Untitled13.ipynb",
   "provenance": []
  },
  "kernelspec": {
   "display_name": "Python 3",
   "language": "python",
   "name": "python3"
  },
  "language_info": {
   "codemirror_mode": {
    "name": "ipython",
    "version": 3
   },
   "file_extension": ".py",
   "mimetype": "text/x-python",
   "name": "python",
   "nbconvert_exporter": "python",
   "pygments_lexer": "ipython3",
   "version": "3.6.13"
  }
 },
 "nbformat": 4,
 "nbformat_minor": 4
}
