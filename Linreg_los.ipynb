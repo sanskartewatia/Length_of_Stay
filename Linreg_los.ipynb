{
 "cells": [
  {
   "cell_type": "code",
   "execution_count": 1,
   "id": "serial-forest",
   "metadata": {},
   "outputs": [
    {
     "data": {
      "text/html": [
       "<div>\n",
       "<style scoped>\n",
       "    .dataframe tbody tr th:only-of-type {\n",
       "        vertical-align: middle;\n",
       "    }\n",
       "\n",
       "    .dataframe tbody tr th {\n",
       "        vertical-align: top;\n",
       "    }\n",
       "\n",
       "    .dataframe thead th {\n",
       "        text-align: right;\n",
       "    }\n",
       "</style>\n",
       "<table border=\"1\" class=\"dataframe\">\n",
       "  <thead>\n",
       "    <tr style=\"text-align: right;\">\n",
       "      <th></th>\n",
       "      <th>LOS</th>\n",
       "      <th>blood</th>\n",
       "      <th>circulatory</th>\n",
       "      <th>congenital</th>\n",
       "      <th>digestive</th>\n",
       "      <th>endocrine</th>\n",
       "      <th>genitourinary</th>\n",
       "      <th>infectious</th>\n",
       "      <th>injury</th>\n",
       "      <th>mental</th>\n",
       "      <th>...</th>\n",
       "      <th>AGE_newborn</th>\n",
       "      <th>AGE_senior</th>\n",
       "      <th>AGE_young_adult</th>\n",
       "      <th>MAR_DIVORCED</th>\n",
       "      <th>MAR_LIFE PARTNER</th>\n",
       "      <th>MAR_MARRIED</th>\n",
       "      <th>MAR_SEPARATED</th>\n",
       "      <th>MAR_SINGLE</th>\n",
       "      <th>MAR_UNKNOWN (DEFAULT)</th>\n",
       "      <th>MAR_WIDOWED</th>\n",
       "    </tr>\n",
       "  </thead>\n",
       "  <tbody>\n",
       "    <tr>\n",
       "      <th>0</th>\n",
       "      <td>1.144444</td>\n",
       "      <td>0.0</td>\n",
       "      <td>1.0</td>\n",
       "      <td>0.0</td>\n",
       "      <td>0.0</td>\n",
       "      <td>0.0</td>\n",
       "      <td>0.0</td>\n",
       "      <td>0.0</td>\n",
       "      <td>4.0</td>\n",
       "      <td>1.0</td>\n",
       "      <td>...</td>\n",
       "      <td>0</td>\n",
       "      <td>1</td>\n",
       "      <td>0</td>\n",
       "      <td>0</td>\n",
       "      <td>0</td>\n",
       "      <td>1</td>\n",
       "      <td>0</td>\n",
       "      <td>0</td>\n",
       "      <td>0</td>\n",
       "      <td>0</td>\n",
       "    </tr>\n",
       "    <tr>\n",
       "      <th>1</th>\n",
       "      <td>5.496528</td>\n",
       "      <td>0.0</td>\n",
       "      <td>4.0</td>\n",
       "      <td>0.0</td>\n",
       "      <td>0.0</td>\n",
       "      <td>1.0</td>\n",
       "      <td>1.0</td>\n",
       "      <td>0.0</td>\n",
       "      <td>1.0</td>\n",
       "      <td>0.0</td>\n",
       "      <td>...</td>\n",
       "      <td>0</td>\n",
       "      <td>1</td>\n",
       "      <td>0</td>\n",
       "      <td>0</td>\n",
       "      <td>0</td>\n",
       "      <td>1</td>\n",
       "      <td>0</td>\n",
       "      <td>0</td>\n",
       "      <td>0</td>\n",
       "      <td>0</td>\n",
       "    </tr>\n",
       "    <tr>\n",
       "      <th>2</th>\n",
       "      <td>6.768056</td>\n",
       "      <td>0.0</td>\n",
       "      <td>2.0</td>\n",
       "      <td>0.0</td>\n",
       "      <td>0.0</td>\n",
       "      <td>2.0</td>\n",
       "      <td>0.0</td>\n",
       "      <td>0.0</td>\n",
       "      <td>3.0</td>\n",
       "      <td>0.0</td>\n",
       "      <td>...</td>\n",
       "      <td>0</td>\n",
       "      <td>1</td>\n",
       "      <td>0</td>\n",
       "      <td>0</td>\n",
       "      <td>0</td>\n",
       "      <td>1</td>\n",
       "      <td>0</td>\n",
       "      <td>0</td>\n",
       "      <td>0</td>\n",
       "      <td>0</td>\n",
       "    </tr>\n",
       "    <tr>\n",
       "      <th>3</th>\n",
       "      <td>2.856944</td>\n",
       "      <td>0.0</td>\n",
       "      <td>2.0</td>\n",
       "      <td>0.0</td>\n",
       "      <td>1.0</td>\n",
       "      <td>1.0</td>\n",
       "      <td>0.0</td>\n",
       "      <td>0.0</td>\n",
       "      <td>0.0</td>\n",
       "      <td>0.0</td>\n",
       "      <td>...</td>\n",
       "      <td>0</td>\n",
       "      <td>0</td>\n",
       "      <td>0</td>\n",
       "      <td>0</td>\n",
       "      <td>0</td>\n",
       "      <td>0</td>\n",
       "      <td>0</td>\n",
       "      <td>1</td>\n",
       "      <td>0</td>\n",
       "      <td>0</td>\n",
       "    </tr>\n",
       "    <tr>\n",
       "      <th>4</th>\n",
       "      <td>3.534028</td>\n",
       "      <td>0.0</td>\n",
       "      <td>3.0</td>\n",
       "      <td>0.0</td>\n",
       "      <td>0.0</td>\n",
       "      <td>1.0</td>\n",
       "      <td>0.0</td>\n",
       "      <td>0.0</td>\n",
       "      <td>0.0</td>\n",
       "      <td>0.0</td>\n",
       "      <td>...</td>\n",
       "      <td>0</td>\n",
       "      <td>1</td>\n",
       "      <td>0</td>\n",
       "      <td>0</td>\n",
       "      <td>0</td>\n",
       "      <td>1</td>\n",
       "      <td>0</td>\n",
       "      <td>0</td>\n",
       "      <td>0</td>\n",
       "      <td>0</td>\n",
       "    </tr>\n",
       "    <tr>\n",
       "      <th>5</th>\n",
       "      <td>6.988889</td>\n",
       "      <td>0.0</td>\n",
       "      <td>5.0</td>\n",
       "      <td>0.0</td>\n",
       "      <td>0.0</td>\n",
       "      <td>1.0</td>\n",
       "      <td>2.0</td>\n",
       "      <td>0.0</td>\n",
       "      <td>1.0</td>\n",
       "      <td>0.0</td>\n",
       "      <td>...</td>\n",
       "      <td>0</td>\n",
       "      <td>1</td>\n",
       "      <td>0</td>\n",
       "      <td>0</td>\n",
       "      <td>0</td>\n",
       "      <td>0</td>\n",
       "      <td>0</td>\n",
       "      <td>1</td>\n",
       "      <td>0</td>\n",
       "      <td>0</td>\n",
       "    </tr>\n",
       "    <tr>\n",
       "      <th>6</th>\n",
       "      <td>2.686806</td>\n",
       "      <td>0.0</td>\n",
       "      <td>0.0</td>\n",
       "      <td>0.0</td>\n",
       "      <td>0.0</td>\n",
       "      <td>0.0</td>\n",
       "      <td>0.0</td>\n",
       "      <td>0.0</td>\n",
       "      <td>3.0</td>\n",
       "      <td>0.0</td>\n",
       "      <td>...</td>\n",
       "      <td>1</td>\n",
       "      <td>0</td>\n",
       "      <td>0</td>\n",
       "      <td>0</td>\n",
       "      <td>0</td>\n",
       "      <td>0</td>\n",
       "      <td>0</td>\n",
       "      <td>0</td>\n",
       "      <td>1</td>\n",
       "      <td>0</td>\n",
       "    </tr>\n",
       "    <tr>\n",
       "      <th>7</th>\n",
       "      <td>5.364583</td>\n",
       "      <td>0.0</td>\n",
       "      <td>4.0</td>\n",
       "      <td>0.0</td>\n",
       "      <td>0.0</td>\n",
       "      <td>2.0</td>\n",
       "      <td>0.0</td>\n",
       "      <td>0.0</td>\n",
       "      <td>3.0</td>\n",
       "      <td>1.0</td>\n",
       "      <td>...</td>\n",
       "      <td>0</td>\n",
       "      <td>1</td>\n",
       "      <td>0</td>\n",
       "      <td>0</td>\n",
       "      <td>0</td>\n",
       "      <td>1</td>\n",
       "      <td>0</td>\n",
       "      <td>0</td>\n",
       "      <td>0</td>\n",
       "      <td>0</td>\n",
       "    </tr>\n",
       "    <tr>\n",
       "      <th>8</th>\n",
       "      <td>19.197917</td>\n",
       "      <td>0.0</td>\n",
       "      <td>3.0</td>\n",
       "      <td>0.0</td>\n",
       "      <td>1.0</td>\n",
       "      <td>1.0</td>\n",
       "      <td>0.0</td>\n",
       "      <td>0.0</td>\n",
       "      <td>0.0</td>\n",
       "      <td>0.0</td>\n",
       "      <td>...</td>\n",
       "      <td>0</td>\n",
       "      <td>0</td>\n",
       "      <td>0</td>\n",
       "      <td>0</td>\n",
       "      <td>0</td>\n",
       "      <td>0</td>\n",
       "      <td>0</td>\n",
       "      <td>0</td>\n",
       "      <td>1</td>\n",
       "      <td>0</td>\n",
       "    </tr>\n",
       "    <tr>\n",
       "      <th>9</th>\n",
       "      <td>3.565972</td>\n",
       "      <td>0.0</td>\n",
       "      <td>0.0</td>\n",
       "      <td>0.0</td>\n",
       "      <td>0.0</td>\n",
       "      <td>0.0</td>\n",
       "      <td>0.0</td>\n",
       "      <td>1.0</td>\n",
       "      <td>0.0</td>\n",
       "      <td>0.0</td>\n",
       "      <td>...</td>\n",
       "      <td>0</td>\n",
       "      <td>1</td>\n",
       "      <td>0</td>\n",
       "      <td>0</td>\n",
       "      <td>0</td>\n",
       "      <td>1</td>\n",
       "      <td>0</td>\n",
       "      <td>0</td>\n",
       "      <td>0</td>\n",
       "      <td>0</td>\n",
       "    </tr>\n",
       "  </tbody>\n",
       "</table>\n",
       "<p>10 rows × 49 columns</p>\n",
       "</div>"
      ],
      "text/plain": [
       "         LOS  blood  circulatory  congenital  digestive  endocrine  \\\n",
       "0   1.144444    0.0          1.0         0.0        0.0        0.0   \n",
       "1   5.496528    0.0          4.0         0.0        0.0        1.0   \n",
       "2   6.768056    0.0          2.0         0.0        0.0        2.0   \n",
       "3   2.856944    0.0          2.0         0.0        1.0        1.0   \n",
       "4   3.534028    0.0          3.0         0.0        0.0        1.0   \n",
       "5   6.988889    0.0          5.0         0.0        0.0        1.0   \n",
       "6   2.686806    0.0          0.0         0.0        0.0        0.0   \n",
       "7   5.364583    0.0          4.0         0.0        0.0        2.0   \n",
       "8  19.197917    0.0          3.0         0.0        1.0        1.0   \n",
       "9   3.565972    0.0          0.0         0.0        0.0        0.0   \n",
       "\n",
       "   genitourinary  infectious  injury  mental  ...  AGE_newborn  AGE_senior  \\\n",
       "0            0.0         0.0     4.0     1.0  ...            0           1   \n",
       "1            1.0         0.0     1.0     0.0  ...            0           1   \n",
       "2            0.0         0.0     3.0     0.0  ...            0           1   \n",
       "3            0.0         0.0     0.0     0.0  ...            0           0   \n",
       "4            0.0         0.0     0.0     0.0  ...            0           1   \n",
       "5            2.0         0.0     1.0     0.0  ...            0           1   \n",
       "6            0.0         0.0     3.0     0.0  ...            1           0   \n",
       "7            0.0         0.0     3.0     1.0  ...            0           1   \n",
       "8            0.0         0.0     0.0     0.0  ...            0           0   \n",
       "9            0.0         1.0     0.0     0.0  ...            0           1   \n",
       "\n",
       "   AGE_young_adult  MAR_DIVORCED  MAR_LIFE PARTNER  MAR_MARRIED  \\\n",
       "0                0             0                 0            1   \n",
       "1                0             0                 0            1   \n",
       "2                0             0                 0            1   \n",
       "3                0             0                 0            0   \n",
       "4                0             0                 0            1   \n",
       "5                0             0                 0            0   \n",
       "6                0             0                 0            0   \n",
       "7                0             0                 0            1   \n",
       "8                0             0                 0            0   \n",
       "9                0             0                 0            1   \n",
       "\n",
       "   MAR_SEPARATED  MAR_SINGLE  MAR_UNKNOWN (DEFAULT)  MAR_WIDOWED  \n",
       "0              0           0                      0            0  \n",
       "1              0           0                      0            0  \n",
       "2              0           0                      0            0  \n",
       "3              0           1                      0            0  \n",
       "4              0           0                      0            0  \n",
       "5              0           1                      0            0  \n",
       "6              0           0                      1            0  \n",
       "7              0           0                      0            0  \n",
       "8              0           0                      1            0  \n",
       "9              0           0                      0            0  \n",
       "\n",
       "[10 rows x 49 columns]"
      ]
     },
     "execution_count": 1,
     "metadata": {},
     "output_type": "execute_result"
    }
   ],
   "source": [
    "import numpy as np \n",
    "import pandas as pd \n",
    "import matplotlib.pyplot as plt \n",
    "import seaborn as sns \n",
    "from matplotlib import gridspec \n",
    "import random\n",
    "from sklearn import preprocessing\n",
    "from math import sqrt\n",
    "from numpy import mean\n",
    "from numpy import std\n",
    "from sklearn.metrics import make_scorer, accuracy_score\n",
    "\n",
    "from sklearn.model_selection import KFold\n",
    "from sklearn.model_selection import cross_val_score\n",
    "from sklearn.metrics import mean_squared_error\n",
    "\n",
    "\n",
    "train = pd.read_csv(\"dataset_1.csv\")\n",
    "train.head(10)"
   ]
  },
  {
   "cell_type": "code",
   "execution_count": 2,
   "id": "planned-decision",
   "metadata": {},
   "outputs": [
    {
     "name": "stdout",
     "output_type": "stream",
     "text": [
      "(51037, 48) (51037,)\n"
     ]
    }
   ],
   "source": [
    "Y = train['LOS'].values\n",
    "X = train.drop(columns=['LOS'])\n",
    "print(X.shape, Y.shape)\n",
    "from sklearn.model_selection import train_test_split, GridSearchCV\n",
    "X_train, X_test, y_train, y_test = train_test_split(X, Y, test_size=0.1, random_state=42)"
   ]
  },
  {
   "cell_type": "code",
   "execution_count": 28,
   "id": "second-triumph",
   "metadata": {},
   "outputs": [],
   "source": [
    "from sklearn.linear_model import LinearRegression\n",
    "from matplotlib import pyplot"
   ]
  },
  {
   "cell_type": "code",
   "execution_count": 41,
   "id": "legitimate-joshua",
   "metadata": {},
   "outputs": [
    {
     "name": "stdout",
     "output_type": "stream",
     "text": [
      "MSE: 104.846, Std: (7.446)\n",
      "[108.92177033  99.17528163 106.03322222 103.0250227  120.57374173\n",
      " 106.46512402  97.14740443  96.23586798 113.08466336  97.7968224 ]\n",
      "MSE: 97.712304\n"
     ]
    }
   ],
   "source": [
    "from sklearn.linear_model import LinearRegression\n",
    "cv = KFold(n_splits=10, random_state=1, shuffle=True)\n",
    "# create model\n",
    "model = LinearRegression()\n",
    "# evaluate model\n",
    "scores = cross_val_score(model, X_train, y_train, scoring='neg_mean_squared_error', cv=cv, n_jobs=-1)\n",
    "# report performance\n",
    "print('MSE: %.3f, Std: (%.3f)' % (-1*mean(scores), std(scores)))\n",
    "print(-1*scores)\n",
    "model.fit(X_train, y_train)\n",
    "pred=model.predict(X_test);\n",
    "mse = mean_squared_error(y_test, pred)\n",
    "print(\"MSE: %f\" % (mse))"
   ]
  },
  {
   "cell_type": "code",
   "execution_count": 25,
   "id": "ancient-soviet",
   "metadata": {},
   "outputs": [
    {
     "name": "stdout",
     "output_type": "stream",
     "text": [
      "MSE: 2474521718422242852864.000\n"
     ]
    }
   ],
   "source": [
    "from sklearn.preprocessing import PolynomialFeatures\n",
    "from sklearn.pipeline import make_pipeline\n",
    "degree=2\n",
    "xt=X_train.astype(int)\n",
    "polyreg=make_pipeline(PolynomialFeatures(degree),LinearRegression())\n",
    "polyreg.fit(xt,y_train)\n",
    "pred2=polyreg.predict(X_test)\n",
    "mse2 = mean_squared_error(y_test, pred2)\n",
    "print(\"MSE: %0.3f\" % (mse2))"
   ]
  },
  {
   "cell_type": "code",
   "execution_count": 18,
   "id": "lined-lithuania",
   "metadata": {},
   "outputs": [
    {
     "data": {
      "text/plain": [
       "{'alpha': 1}"
      ]
     },
     "execution_count": 18,
     "metadata": {},
     "output_type": "execute_result"
    }
   ],
   "source": [
    "from sklearn.linear_model import Lasso\n",
    "\n",
    "\n",
    "m3 = Lasso()\n",
    "params = {'alpha': [0.4, 0.6, 0.8, 1] }\n",
    "scorer = make_scorer(mean_squared_error)\n",
    "clf_grid = GridSearchCV(estimator=m3, param_grid=params, scoring=scorer, cv=5)\n",
    "\n",
    "clf_grid.fit(X_train, y_train)\n",
    "best_param = clf_grid.best_params_\n",
    "best_param"
   ]
  },
  {
   "cell_type": "code",
   "execution_count": 42,
   "id": "cloudy-skirt",
   "metadata": {},
   "outputs": [
    {
     "name": "stdout",
     "output_type": "stream",
     "text": [
      "MSE: 113.956, Std: (7.695)\n",
      "[118.54618545 108.40311358 112.28231535 110.34479105 128.45455365\n",
      " 118.3679945  109.08691374 105.40287582 124.27269522 104.39471243]\n",
      "MSE: 105.399665\n"
     ]
    }
   ],
   "source": [
    "from sklearn.linear_model import Lasso\n",
    "cv3 = KFold(n_splits=10, random_state=1, shuffle=True)\n",
    "# create model\n",
    "model3 = Lasso(alpha=1)\n",
    "# evaluate model\n",
    "scores3 = cross_val_score(model3, X_train, y_train, scoring='neg_mean_squared_error', cv=cv3, n_jobs=-1)\n",
    "# report performance\n",
    "print('MSE: %.3f, Std: (%.3f)' % (-1*mean(scores3), std(scores3)))\n",
    "print(-1*scores3)\n",
    "model3.fit(X_train, y_train)\n",
    "pred3=model3.predict(X_test);\n",
    "mse3 = mean_squared_error(y_test, pred3)\n",
    "print(\"MSE: %f\" % (mse3))"
   ]
  },
  {
   "cell_type": "code",
   "execution_count": 22,
   "id": "focal-calcium",
   "metadata": {},
   "outputs": [
    {
     "data": {
      "text/plain": [
       "{'alpha': 0.2}"
      ]
     },
     "execution_count": 22,
     "metadata": {},
     "output_type": "execute_result"
    }
   ],
   "source": [
    "from sklearn.linear_model import Ridge\n",
    "m4 = Ridge()\n",
    "params = {'alpha': [0.2, 0.4, 0.6, 0.8, 1] }\n",
    "scorer = make_scorer(mean_squared_error)\n",
    "clf_grid = GridSearchCV(estimator=m4, param_grid=params, scoring=scorer, cv=10)\n",
    "\n",
    "clf_grid.fit(X_train, y_train)\n",
    "best_param = clf_grid.best_params_\n",
    "best_param"
   ]
  },
  {
   "cell_type": "code",
   "execution_count": 43,
   "id": "abandoned-desert",
   "metadata": {},
   "outputs": [
    {
     "name": "stdout",
     "output_type": "stream",
     "text": [
      "MSE: 104.831, Std: (7.427)\n",
      "[108.92949629  99.13391533 106.03815677 103.04247225 120.57816752\n",
      " 106.4739851   97.13329545  96.26844156 112.90364747  97.81335166]\n",
      "MSE: 97.703404\n"
     ]
    }
   ],
   "source": [
    "from sklearn.linear_model import Ridge\n",
    "cv4 = KFold(n_splits=10, random_state=1, shuffle=True)\n",
    "# create model\n",
    "model4 = Ridge(alpha=0.2)\n",
    "# evaluate model\n",
    "scores4 = cross_val_score(model4, X_train, y_train, scoring='neg_mean_squared_error', cv=cv4, n_jobs=-1)\n",
    "# report performance\n",
    "print('MSE: %.3f, Std: (%.3f)' % (-1*mean(scores4), std(scores4)))\n",
    "print(-1*scores4)\n",
    "model4.fit(X_train, y_train)\n",
    "pred4=model4.predict(X_test);\n",
    "mse4 = mean_squared_error(y_test, pred4)\n",
    "print(\"MSE: %f\" % (mse4))"
   ]
  },
  {
   "cell_type": "code",
   "execution_count": 29,
   "id": "worst-vietnamese",
   "metadata": {},
   "outputs": [
    {
     "data": {
      "text/plain": [
       "{'leaf_size': 5, 'n_neighbors': 5, 'p': 1}"
      ]
     },
     "execution_count": 29,
     "metadata": {},
     "output_type": "execute_result"
    }
   ],
   "source": [
    "from sklearn.neighbors import KNeighborsRegressor\n",
    "m5 = KNeighborsRegressor(n_jobs=-1)\n",
    "params = {'n_neighbors': [5,7,11,15], 'p':[1,2], 'leaf_size':[5,15,25,30,45]}\n",
    "scorer = make_scorer(mean_squared_error)\n",
    "clf_grid = GridSearchCV(estimator=m5, param_grid=params, scoring=scorer, cv=10)\n",
    "\n",
    "clf_grid.fit(X_train, y_train)\n",
    "best_param = clf_grid.best_params_\n",
    "best_param"
   ]
  },
  {
   "cell_type": "code",
   "execution_count": 46,
   "id": "sweet-compensation",
   "metadata": {},
   "outputs": [
    {
     "name": "stdout",
     "output_type": "stream",
     "text": [
      "MSE: 112.783, Std: (6.781)\n",
      "[109.41624556 112.10185729 114.62913951 110.85888914 126.27504403\n",
      " 115.69607132 113.09671522 102.18996128 120.02901305 103.53272328]\n",
      "MSE: 99.194819\n"
     ]
    }
   ],
   "source": [
    "from sklearn.neighbors import KNeighborsRegressor\n",
    "cv5 = KFold(n_splits=10, random_state=1, shuffle=True)\n",
    "# create model\n",
    "model5 = KNeighborsRegressor(leaf_size= 5, n_neighbors= 5, p= 1,n_jobs=-1)\n",
    "# evaluate model\n",
    "scores5 = cross_val_score(model5, X_train, y_train, scoring='neg_mean_squared_error', cv=cv5, n_jobs=-1)\n",
    "# report performance\n",
    "print('MSE: %.3f, Std: (%.3f)' % (-1*mean(scores5), std(scores5)))\n",
    "print(-1*scores5)\n",
    "model5.fit(X_train, y_train)\n",
    "pred5=model5.predict(X_test);\n",
    "mse5 = mean_squared_error(y_test, pred5)\n",
    "print(\"MSE: %f\" % (mse5))"
   ]
  },
  {
   "cell_type": "code",
   "execution_count": 32,
   "id": "wired-encyclopedia",
   "metadata": {},
   "outputs": [
    {
     "data": {
      "text/plain": [
       "{'max_depth': 10, 'min_samples_leaf': 1}"
      ]
     },
     "execution_count": 32,
     "metadata": {},
     "output_type": "execute_result"
    }
   ],
   "source": [
    "from sklearn.tree import DecisionTreeRegressor\n",
    "m6 = DecisionTreeRegressor()\n",
    "params = {'max_depth': [6,8,10], 'min_samples_leaf':[1,5,10,20,50]}\n",
    "scorer = make_scorer(mean_squared_error)\n",
    "clf_grid = GridSearchCV(estimator=m6, param_grid=params, scoring=scorer, cv=10)\n",
    "\n",
    "clf_grid.fit(X_train, y_train)\n",
    "best_param = clf_grid.best_params_\n",
    "best_param"
   ]
  },
  {
   "cell_type": "code",
   "execution_count": 40,
   "id": "sufficient-liberty",
   "metadata": {},
   "outputs": [
    {
     "name": "stdout",
     "output_type": "stream",
     "text": [
      "MSE: 112.938, Std: (9.841)\n",
      "[104.40927989 103.88041536 113.06267358 103.06172755 136.13459455\n",
      " 116.45082295 107.96432309 106.60483771 122.75684299 115.05255074]\n",
      "MSE: 94.362445\n",
      "Feature: 0, Score: 0.75054\n",
      "Feature: 1, Score: 1.06391\n",
      "Feature: 2, Score: 2.05834\n",
      "Feature: 3, Score: 5.91568\n",
      "Feature: 4, Score: 1.21338\n",
      "Feature: 5, Score: 1.47795\n",
      "Feature: 6, Score: 11.75393\n",
      "Feature: 7, Score: 5.78371\n",
      "Feature: 8, Score: 0.75132\n",
      "Feature: 9, Score: 0.52190\n",
      "Feature: 10, Score: 0.78553\n",
      "Feature: 11, Score: 0.30650\n",
      "Feature: 12, Score: 9.09092\n",
      "Feature: 13, Score: 0.18334\n",
      "Feature: 14, Score: 37.44762\n",
      "Feature: 15, Score: 9.30287\n",
      "Feature: 16, Score: 1.54861\n",
      "Feature: 17, Score: 0.65990\n",
      "Feature: 18, Score: 1.33613\n",
      "Feature: 19, Score: 0.58240\n",
      "Feature: 20, Score: 0.05973\n",
      "Feature: 21, Score: 1.20953\n",
      "Feature: 22, Score: 0.10622\n",
      "Feature: 23, Score: 0.09227\n",
      "Feature: 24, Score: 0.31306\n",
      "Feature: 25, Score: 0.75788\n",
      "Feature: 26, Score: 0.35111\n",
      "Feature: 27, Score: 0.40742\n",
      "Feature: 28, Score: 0.08900\n",
      "Feature: 29, Score: 0.10901\n",
      "Feature: 30, Score: 0.37018\n",
      "Feature: 31, Score: 0.49214\n",
      "Feature: 32, Score: 0.18890\n",
      "Feature: 33, Score: 0.31727\n",
      "Feature: 34, Score: 0.54823\n",
      "Feature: 35, Score: 0.47670\n",
      "Feature: 36, Score: 0.50431\n",
      "Feature: 37, Score: 0.02600\n",
      "Feature: 38, Score: 0.00000\n",
      "Feature: 39, Score: 0.04174\n",
      "Feature: 40, Score: 0.33798\n",
      "Feature: 41, Score: 0.19491\n",
      "Feature: 42, Score: 0.00000\n",
      "Feature: 43, Score: 0.01538\n",
      "Feature: 44, Score: 0.12432\n",
      "Feature: 45, Score: 0.24553\n",
      "Feature: 46, Score: 0.08670\n",
      "Feature: 47, Score: 0.00000\n"
     ]
    },
    {
     "data": {
      "image/png": "[encoded data removed]",
      "text/plain": [
       "<Figure size 432x288 with 1 Axes>"
      ]
     },
     "metadata": {
      "needs_background": "light"
     },
     "output_type": "display_data"
    }
   ],
   "source": [
    "from sklearn.tree import DecisionTreeRegressor\n",
    "model6 = DecisionTreeRegressor(random_state=0,max_depth = 10, min_samples_leaf = 1)\n",
    "cv6 = KFold(n_splits=10, random_state=1, shuffle=True)\n",
    "# evaluate model\n",
    "scores6 = cross_val_score(model6, X_train, y_train, scoring='neg_mean_squared_error', cv=cv6, n_jobs=-1)\n",
    "# report performance\n",
    "print('MSE: %.3f, Std: (%.3f)' % (-1*mean(scores6), std(scores6)))\n",
    "print(-1*scores6)\n",
    "model6.fit(X_train, y_train)\n",
    "pred6=model6.predict(X_test);\n",
    "mse6 = mean_squared_error(y_test, pred6)\n",
    "print(\"MSE: %f\" % (mse6))\n",
    "importance = model6.feature_importances_\n",
    "# summarize feature importance\n",
    "for i,v in enumerate(importance):\n",
    "\tprint('Feature: %0d, Score: %.5f' % (i,100*v))\n",
    "# plot feature importance\n",
    "pyplot.bar([x for x in range(len(importance))], 100*importance)\n",
    "pyplot.show()"
   ]
  },
  {
   "cell_type": "code",
   "execution_count": 12,
   "id": "endangered-virtue",
   "metadata": {},
   "outputs": [
    {
     "data": {
      "text/plain": [
       "{'alpha': 0.1, 'eta': 0.1, 'lambda': 0.9, 'max_depth': 10}"
      ]
     },
     "execution_count": 12,
     "metadata": {},
     "output_type": "execute_result"
    }
   ],
   "source": [
    "import xgboost as xgb\n",
    "m7 = xgb.XGBRegressor(random_state=0,n_jobs=-1,tree_method='gpu_hist', gpu_id=0)\n",
    "params = {'max_depth': [10],'eta': [0.05, 0.1], 'lambda': [0.9, 1], 'alpha': [0.1,0.02] }\n",
    "scorer = make_scorer(mean_squared_error)\n",
    "clf_grid = GridSearchCV(estimator=m7, param_grid=params, scoring=scorer, cv=3)\n",
    "\n",
    "clf_grid.fit(X_train, y_train)\n",
    "best_param = clf_grid.best_params_\n",
    "best_param"
   ]
  },
  {
   "cell_type": "code",
   "execution_count": 37,
   "id": "later-saskatchewan",
   "metadata": {},
   "outputs": [
    {
     "name": "stdout",
     "output_type": "stream",
     "text": [
      "MSE: 97.284, Std: (6.995)\n",
      "[ 89.41813647  92.97870418  98.46322239  95.7978015  113.1045531\n",
      "  94.37325368  97.64245036  92.76247327 106.86449385  91.4374716 ]\n",
      "MSE: 83.788215\n",
      "Feature: 0, Score: 0.68058\n",
      "Feature: 1, Score: 0.95558\n",
      "Feature: 2, Score: 1.15819\n",
      "Feature: 3, Score: 2.42652\n",
      "Feature: 4, Score: 1.06856\n",
      "Feature: 5, Score: 1.46383\n",
      "Feature: 6, Score: 5.69671\n",
      "Feature: 7, Score: 1.37197\n",
      "Feature: 8, Score: 1.17571\n",
      "Feature: 9, Score: 1.05727\n",
      "Feature: 10, Score: 1.30850\n",
      "Feature: 11, Score: 1.04599\n",
      "Feature: 12, Score: 6.16923\n",
      "Feature: 13, Score: 1.00662\n",
      "Feature: 14, Score: 14.53767\n",
      "Feature: 15, Score: 4.52120\n",
      "Feature: 16, Score: 1.82366\n",
      "Feature: 17, Score: 1.03798\n",
      "Feature: 18, Score: 8.01119\n",
      "Feature: 19, Score: 3.56411\n",
      "Feature: 20, Score: 1.65911\n",
      "Feature: 21, Score: 3.10571\n",
      "Feature: 22, Score: 1.58900\n",
      "Feature: 23, Score: 1.81952\n",
      "Feature: 24, Score: 1.18188\n",
      "Feature: 25, Score: 1.36670\n",
      "Feature: 26, Score: 1.44391\n",
      "Feature: 27, Score: 1.17703\n",
      "Feature: 28, Score: 0.97877\n",
      "Feature: 29, Score: 0.80336\n",
      "Feature: 30, Score: 0.91595\n",
      "Feature: 31, Score: 0.96078\n",
      "Feature: 32, Score: 0.83281\n",
      "Feature: 33, Score: 0.81454\n",
      "Feature: 34, Score: 1.04779\n",
      "Feature: 35, Score: 1.27589\n",
      "Feature: 36, Score: 0.79858\n",
      "Feature: 37, Score: 1.03437\n",
      "Feature: 38, Score: 6.56871\n",
      "Feature: 39, Score: 1.79075\n",
      "Feature: 40, Score: 1.58856\n",
      "Feature: 41, Score: 1.12186\n",
      "Feature: 42, Score: 0.22197\n",
      "Feature: 43, Score: 0.81360\n",
      "Feature: 44, Score: 1.04400\n",
      "Feature: 45, Score: 1.11121\n",
      "Feature: 46, Score: 1.85044\n",
      "Feature: 47, Score: 1.00217\n"
     ]
    },
    {
     "data": {
      "image/png": "[encoded data removed]",
      "text/plain": [
       "<Figure size 432x288 with 1 Axes>"
      ]
     },
     "metadata": {
      "needs_background": "light"
     },
     "output_type": "display_data"
    }
   ],
   "source": [
    "model7 = xgb.XGBRegressor(random_state=0,n_jobs=-1,tree_method='gpu_hist', gpu_id=0, alpha= 0.1, eta= 0.1, max_depth= 10)\n",
    "cv7 = KFold(n_splits=10, random_state=1, shuffle=True)\n",
    "# evaluate model\n",
    "scores7 = cross_val_score(model7, X_train, y_train, scoring='neg_mean_squared_error', cv=cv7, n_jobs=-1)\n",
    "# report performance\n",
    "print('MSE: %.3f, Std: (%.3f)' % (-1*mean(scores7), std(scores7)))\n",
    "print(-1*scores7)\n",
    "model7.fit(X_train, y_train)\n",
    "pred7=model7.predict(X_test);\n",
    "mse7 = mean_squared_error(y_test, pred7)\n",
    "print(\"MSE: %f\" % (mse7))\n",
    "importance = model7.feature_importances_\n",
    "# summarize feature importance\n",
    "for i,v in enumerate(importance):\n",
    "\tprint('Feature: %0d, Score: %.5f' % (i,100*v))\n",
    "# plot feature importance\n",
    "pyplot.bar([x for x in range(len(importance))], 100*importance)\n",
    "pyplot.show()"
   ]
  },
  {
   "cell_type": "code",
   "execution_count": null,
   "id": "collected-distributor",
   "metadata": {},
   "outputs": [],
   "source": []
  }
 ],
 "metadata": {
  "kernelspec": {
   "display_name": "Python 3",
   "language": "python",
   "name": "python3"
  },
  "language_info": {
   "codemirror_mode": {
    "name": "ipython",
    "version": 3
   },
   "file_extension": ".py",
   "mimetype": "text/x-python",
   "name": "python",
   "nbconvert_exporter": "python",
   "pygments_lexer": "ipython3",
   "version": "3.6.13"
  }
 },
 "nbformat": 4,
 "nbformat_minor": 5
}
