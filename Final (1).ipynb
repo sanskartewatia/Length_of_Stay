{
 "cells": [
  {
   "cell_type": "code",
   "execution_count": 1,
   "id": "dirty-tomorrow",
   "metadata": {
    "id": "greatest-satisfaction",
    "outputId": "d5ac566b-b5c0-4313-c0c8-24fad1fc9e40"
   },
   "outputs": [
    {
     "name": "stdout",
     "output_type": "stream",
     "text": [
      "[name: \"/device:CPU:0\"\n",
      "device_type: \"CPU\"\n",
      "memory_limit: 268435456\n",
      "locality {\n",
      "}\n",
      "incarnation: 11147300269761363973\n",
      ", name: \"/device:XLA_CPU:0\"\n",
      "device_type: \"XLA_CPU\"\n",
      "memory_limit: 17179869184\n",
      "locality {\n",
      "}\n",
      "incarnation: 5488024817815029941\n",
      "physical_device_desc: \"device: XLA_CPU device\"\n",
      ", name: \"/device:GPU:0\"\n",
      "device_type: \"GPU\"\n",
      "memory_limit: 4951408640\n",
      "locality {\n",
      "  bus_id: 1\n",
      "  links {\n",
      "  }\n",
      "}\n",
      "incarnation: 12391553493343838615\n",
      "physical_device_desc: \"device: 0, name: NVIDIA GeForce RTX 2060, pci bus id: 0000:01:00.0, compute capability: 7.5\"\n",
      ", name: \"/device:XLA_GPU:0\"\n",
      "device_type: \"XLA_GPU\"\n",
      "memory_limit: 17179869184\n",
      "locality {\n",
      "}\n",
      "incarnation: 15740577331467474818\n",
      "physical_device_desc: \"device: XLA_GPU device\"\n",
      "]\n"
     ]
    }
   ],
   "source": [
    "from tensorflow.python.client import device_lib\n",
    "print(device_lib.list_local_devices())"
   ]
  },
  {
   "cell_type": "code",
   "execution_count": 1,
   "id": "thrown-style",
   "metadata": {
    "colab": {
     "base_uri": "https://localhost:8080/",
     "height": 396
    },
    "id": "normal-placement",
    "outputId": "357aedd3-8df9-45fd-c9b4-e44990ce2d3b"
   },
   "outputs": [
    {
     "data": {
      "text/html": [
       "<div>\n",
       "<style scoped>\n",
       "    .dataframe tbody tr th:only-of-type {\n",
       "        vertical-align: middle;\n",
       "    }\n",
       "\n",
       "    .dataframe tbody tr th {\n",
       "        vertical-align: top;\n",
       "    }\n",
       "\n",
       "    .dataframe thead th {\n",
       "        text-align: right;\n",
       "    }\n",
       "</style>\n",
       "<table border=\"1\" class=\"dataframe\">\n",
       "  <thead>\n",
       "    <tr style=\"text-align: right;\">\n",
       "      <th></th>\n",
       "      <th>LOS</th>\n",
       "      <th>blood</th>\n",
       "      <th>circulatory</th>\n",
       "      <th>congenital</th>\n",
       "      <th>digestive</th>\n",
       "      <th>endocrine</th>\n",
       "      <th>genitourinary</th>\n",
       "      <th>infectious</th>\n",
       "      <th>injury</th>\n",
       "      <th>mental</th>\n",
       "      <th>...</th>\n",
       "      <th>AGE_newborn</th>\n",
       "      <th>AGE_senior</th>\n",
       "      <th>AGE_young_adult</th>\n",
       "      <th>MAR_DIVORCED</th>\n",
       "      <th>MAR_LIFE PARTNER</th>\n",
       "      <th>MAR_MARRIED</th>\n",
       "      <th>MAR_SEPARATED</th>\n",
       "      <th>MAR_SINGLE</th>\n",
       "      <th>MAR_UNKNOWN (DEFAULT)</th>\n",
       "      <th>MAR_WIDOWED</th>\n",
       "    </tr>\n",
       "  </thead>\n",
       "  <tbody>\n",
       "    <tr>\n",
       "      <th>0</th>\n",
       "      <td>1.144444</td>\n",
       "      <td>0.0</td>\n",
       "      <td>1.0</td>\n",
       "      <td>0.0</td>\n",
       "      <td>0.0</td>\n",
       "      <td>0.0</td>\n",
       "      <td>0.0</td>\n",
       "      <td>0.0</td>\n",
       "      <td>4.0</td>\n",
       "      <td>1.0</td>\n",
       "      <td>...</td>\n",
       "      <td>0</td>\n",
       "      <td>1</td>\n",
       "      <td>0</td>\n",
       "      <td>0</td>\n",
       "      <td>0</td>\n",
       "      <td>1</td>\n",
       "      <td>0</td>\n",
       "      <td>0</td>\n",
       "      <td>0</td>\n",
       "      <td>0</td>\n",
       "    </tr>\n",
       "    <tr>\n",
       "      <th>1</th>\n",
       "      <td>5.496528</td>\n",
       "      <td>0.0</td>\n",
       "      <td>4.0</td>\n",
       "      <td>0.0</td>\n",
       "      <td>0.0</td>\n",
       "      <td>1.0</td>\n",
       "      <td>1.0</td>\n",
       "      <td>0.0</td>\n",
       "      <td>1.0</td>\n",
       "      <td>0.0</td>\n",
       "      <td>...</td>\n",
       "      <td>0</td>\n",
       "      <td>1</td>\n",
       "      <td>0</td>\n",
       "      <td>0</td>\n",
       "      <td>0</td>\n",
       "      <td>1</td>\n",
       "      <td>0</td>\n",
       "      <td>0</td>\n",
       "      <td>0</td>\n",
       "      <td>0</td>\n",
       "    </tr>\n",
       "    <tr>\n",
       "      <th>2</th>\n",
       "      <td>6.768056</td>\n",
       "      <td>0.0</td>\n",
       "      <td>2.0</td>\n",
       "      <td>0.0</td>\n",
       "      <td>0.0</td>\n",
       "      <td>2.0</td>\n",
       "      <td>0.0</td>\n",
       "      <td>0.0</td>\n",
       "      <td>3.0</td>\n",
       "      <td>0.0</td>\n",
       "      <td>...</td>\n",
       "      <td>0</td>\n",
       "      <td>1</td>\n",
       "      <td>0</td>\n",
       "      <td>0</td>\n",
       "      <td>0</td>\n",
       "      <td>1</td>\n",
       "      <td>0</td>\n",
       "      <td>0</td>\n",
       "      <td>0</td>\n",
       "      <td>0</td>\n",
       "    </tr>\n",
       "    <tr>\n",
       "      <th>3</th>\n",
       "      <td>2.856944</td>\n",
       "      <td>0.0</td>\n",
       "      <td>2.0</td>\n",
       "      <td>0.0</td>\n",
       "      <td>1.0</td>\n",
       "      <td>1.0</td>\n",
       "      <td>0.0</td>\n",
       "      <td>0.0</td>\n",
       "      <td>0.0</td>\n",
       "      <td>0.0</td>\n",
       "      <td>...</td>\n",
       "      <td>0</td>\n",
       "      <td>0</td>\n",
       "      <td>0</td>\n",
       "      <td>0</td>\n",
       "      <td>0</td>\n",
       "      <td>0</td>\n",
       "      <td>0</td>\n",
       "      <td>1</td>\n",
       "      <td>0</td>\n",
       "      <td>0</td>\n",
       "    </tr>\n",
       "    <tr>\n",
       "      <th>4</th>\n",
       "      <td>3.534028</td>\n",
       "      <td>0.0</td>\n",
       "      <td>3.0</td>\n",
       "      <td>0.0</td>\n",
       "      <td>0.0</td>\n",
       "      <td>1.0</td>\n",
       "      <td>0.0</td>\n",
       "      <td>0.0</td>\n",
       "      <td>0.0</td>\n",
       "      <td>0.0</td>\n",
       "      <td>...</td>\n",
       "      <td>0</td>\n",
       "      <td>1</td>\n",
       "      <td>0</td>\n",
       "      <td>0</td>\n",
       "      <td>0</td>\n",
       "      <td>1</td>\n",
       "      <td>0</td>\n",
       "      <td>0</td>\n",
       "      <td>0</td>\n",
       "      <td>0</td>\n",
       "    </tr>\n",
       "    <tr>\n",
       "      <th>5</th>\n",
       "      <td>6.988889</td>\n",
       "      <td>0.0</td>\n",
       "      <td>5.0</td>\n",
       "      <td>0.0</td>\n",
       "      <td>0.0</td>\n",
       "      <td>1.0</td>\n",
       "      <td>2.0</td>\n",
       "      <td>0.0</td>\n",
       "      <td>1.0</td>\n",
       "      <td>0.0</td>\n",
       "      <td>...</td>\n",
       "      <td>0</td>\n",
       "      <td>1</td>\n",
       "      <td>0</td>\n",
       "      <td>0</td>\n",
       "      <td>0</td>\n",
       "      <td>0</td>\n",
       "      <td>0</td>\n",
       "      <td>1</td>\n",
       "      <td>0</td>\n",
       "      <td>0</td>\n",
       "    </tr>\n",
       "    <tr>\n",
       "      <th>6</th>\n",
       "      <td>2.686806</td>\n",
       "      <td>0.0</td>\n",
       "      <td>0.0</td>\n",
       "      <td>0.0</td>\n",
       "      <td>0.0</td>\n",
       "      <td>0.0</td>\n",
       "      <td>0.0</td>\n",
       "      <td>0.0</td>\n",
       "      <td>3.0</td>\n",
       "      <td>0.0</td>\n",
       "      <td>...</td>\n",
       "      <td>1</td>\n",
       "      <td>0</td>\n",
       "      <td>0</td>\n",
       "      <td>0</td>\n",
       "      <td>0</td>\n",
       "      <td>0</td>\n",
       "      <td>0</td>\n",
       "      <td>0</td>\n",
       "      <td>1</td>\n",
       "      <td>0</td>\n",
       "    </tr>\n",
       "    <tr>\n",
       "      <th>7</th>\n",
       "      <td>5.364583</td>\n",
       "      <td>0.0</td>\n",
       "      <td>4.0</td>\n",
       "      <td>0.0</td>\n",
       "      <td>0.0</td>\n",
       "      <td>2.0</td>\n",
       "      <td>0.0</td>\n",
       "      <td>0.0</td>\n",
       "      <td>3.0</td>\n",
       "      <td>1.0</td>\n",
       "      <td>...</td>\n",
       "      <td>0</td>\n",
       "      <td>1</td>\n",
       "      <td>0</td>\n",
       "      <td>0</td>\n",
       "      <td>0</td>\n",
       "      <td>1</td>\n",
       "      <td>0</td>\n",
       "      <td>0</td>\n",
       "      <td>0</td>\n",
       "      <td>0</td>\n",
       "    </tr>\n",
       "    <tr>\n",
       "      <th>8</th>\n",
       "      <td>19.197917</td>\n",
       "      <td>0.0</td>\n",
       "      <td>3.0</td>\n",
       "      <td>0.0</td>\n",
       "      <td>1.0</td>\n",
       "      <td>1.0</td>\n",
       "      <td>0.0</td>\n",
       "      <td>0.0</td>\n",
       "      <td>0.0</td>\n",
       "      <td>0.0</td>\n",
       "      <td>...</td>\n",
       "      <td>0</td>\n",
       "      <td>0</td>\n",
       "      <td>0</td>\n",
       "      <td>0</td>\n",
       "      <td>0</td>\n",
       "      <td>0</td>\n",
       "      <td>0</td>\n",
       "      <td>0</td>\n",
       "      <td>1</td>\n",
       "      <td>0</td>\n",
       "    </tr>\n",
       "    <tr>\n",
       "      <th>9</th>\n",
       "      <td>3.565972</td>\n",
       "      <td>0.0</td>\n",
       "      <td>0.0</td>\n",
       "      <td>0.0</td>\n",
       "      <td>0.0</td>\n",
       "      <td>0.0</td>\n",
       "      <td>0.0</td>\n",
       "      <td>1.0</td>\n",
       "      <td>0.0</td>\n",
       "      <td>0.0</td>\n",
       "      <td>...</td>\n",
       "      <td>0</td>\n",
       "      <td>1</td>\n",
       "      <td>0</td>\n",
       "      <td>0</td>\n",
       "      <td>0</td>\n",
       "      <td>1</td>\n",
       "      <td>0</td>\n",
       "      <td>0</td>\n",
       "      <td>0</td>\n",
       "      <td>0</td>\n",
       "    </tr>\n",
       "  </tbody>\n",
       "</table>\n",
       "<p>10 rows × 49 columns</p>\n",
       "</div>"
      ],
      "text/plain": [
       "         LOS  blood  circulatory  congenital  digestive  endocrine  \\\n",
       "0   1.144444    0.0          1.0         0.0        0.0        0.0   \n",
       "1   5.496528    0.0          4.0         0.0        0.0        1.0   \n",
       "2   6.768056    0.0          2.0         0.0        0.0        2.0   \n",
       "3   2.856944    0.0          2.0         0.0        1.0        1.0   \n",
       "4   3.534028    0.0          3.0         0.0        0.0        1.0   \n",
       "5   6.988889    0.0          5.0         0.0        0.0        1.0   \n",
       "6   2.686806    0.0          0.0         0.0        0.0        0.0   \n",
       "7   5.364583    0.0          4.0         0.0        0.0        2.0   \n",
       "8  19.197917    0.0          3.0         0.0        1.0        1.0   \n",
       "9   3.565972    0.0          0.0         0.0        0.0        0.0   \n",
       "\n",
       "   genitourinary  infectious  injury  mental  ...  AGE_newborn  AGE_senior  \\\n",
       "0            0.0         0.0     4.0     1.0  ...            0           1   \n",
       "1            1.0         0.0     1.0     0.0  ...            0           1   \n",
       "2            0.0         0.0     3.0     0.0  ...            0           1   \n",
       "3            0.0         0.0     0.0     0.0  ...            0           0   \n",
       "4            0.0         0.0     0.0     0.0  ...            0           1   \n",
       "5            2.0         0.0     1.0     0.0  ...            0           1   \n",
       "6            0.0         0.0     3.0     0.0  ...            1           0   \n",
       "7            0.0         0.0     3.0     1.0  ...            0           1   \n",
       "8            0.0         0.0     0.0     0.0  ...            0           0   \n",
       "9            0.0         1.0     0.0     0.0  ...            0           1   \n",
       "\n",
       "   AGE_young_adult  MAR_DIVORCED  MAR_LIFE PARTNER  MAR_MARRIED  \\\n",
       "0                0             0                 0            1   \n",
       "1                0             0                 0            1   \n",
       "2                0             0                 0            1   \n",
       "3                0             0                 0            0   \n",
       "4                0             0                 0            1   \n",
       "5                0             0                 0            0   \n",
       "6                0             0                 0            0   \n",
       "7                0             0                 0            1   \n",
       "8                0             0                 0            0   \n",
       "9                0             0                 0            1   \n",
       "\n",
       "   MAR_SEPARATED  MAR_SINGLE  MAR_UNKNOWN (DEFAULT)  MAR_WIDOWED  \n",
       "0              0           0                      0            0  \n",
       "1              0           0                      0            0  \n",
       "2              0           0                      0            0  \n",
       "3              0           1                      0            0  \n",
       "4              0           0                      0            0  \n",
       "5              0           1                      0            0  \n",
       "6              0           0                      1            0  \n",
       "7              0           0                      0            0  \n",
       "8              0           0                      1            0  \n",
       "9              0           0                      0            0  \n",
       "\n",
       "[10 rows x 49 columns]"
      ]
     },
     "execution_count": 1,
     "metadata": {},
     "output_type": "execute_result"
    }
   ],
   "source": [
    "import numpy as np \n",
    "import pandas as pd \n",
    "import matplotlib.pyplot as plt \n",
    "import seaborn as sns \n",
    "from matplotlib import gridspec \n",
    "import random\n",
    "from sklearn import preprocessing\n",
    "from math import sqrt\n",
    "from numpy import mean\n",
    "from numpy import std\n",
    "from sklearn.metrics import make_scorer, accuracy_score, r2_score\n",
    "%matplotlib inline\n",
    "\n",
    "from sklearn.model_selection import KFold\n",
    "from sklearn.model_selection import cross_val_score\n",
    "from sklearn.metrics import mean_squared_error\n",
    "from matplotlib import pyplot\n",
    "\n",
    "train = pd.read_csv(\"dataset_1.csv\")\n",
    "train.head(10)"
   ]
  },
  {
   "cell_type": "code",
   "execution_count": 2,
   "id": "dutch-boston",
   "metadata": {
    "colab": {
     "base_uri": "https://localhost:8080/",
     "height": 296
    },
    "id": "photographic-finger",
    "outputId": "6ffaa334-a854-4e79-8524-ce7ad54a05c5"
   },
   "outputs": [
    {
     "data": {
      "text/plain": [
       "<AxesSubplot:xlabel='LOS'>"
      ]
     },
     "execution_count": 2,
     "metadata": {},
     "output_type": "execute_result"
    },
    {
     "data": {
      "image/png": "[encoded data removed]",
      "text/plain": [
       "<Figure size 432x288 with 1 Axes>"
      ]
     },
     "metadata": {
      "needs_background": "light"
     },
     "output_type": "display_data"
    }
   ],
   "source": [
    "sns.boxplot(x=train['LOS'])"
   ]
  },
  {
   "cell_type": "code",
   "execution_count": 3,
   "id": "reported-release",
   "metadata": {
    "colab": {
     "base_uri": "https://localhost:8080/",
     "height": 296
    },
    "id": "modified-field",
    "outputId": "0af2a092-54f8-430b-9ff7-edd63eb86750"
   },
   "outputs": [
    {
     "data": {
      "text/plain": [
       "<AxesSubplot:xlabel='LOS'>"
      ]
     },
     "execution_count": 3,
     "metadata": {},
     "output_type": "execute_result"
    },
    {
     "data": {
      "image/png": "[encoded data removed]",
      "text/plain": [
       "<Figure size 432x288 with 1 Axes>"
      ]
     },
     "metadata": {
      "needs_background": "light"
     },
     "output_type": "display_data"
    }
   ],
   "source": [
    "top = np.percentile(train.LOS,99.8)\n",
    "train = train[ (train['LOS']<top) ]\n",
    "sns.boxplot(x=train['LOS'])"
   ]
  },
  {
   "cell_type": "code",
   "execution_count": 4,
   "id": "pretty-fossil",
   "metadata": {
    "colab": {
     "base_uri": "https://localhost:8080/",
     "height": 1000
    },
    "id": "characteristic-folks",
    "outputId": "83f27fa7-f6b9-4edd-dc56-23de9b3b7659"
   },
   "outputs": [
    {
     "data": {
      "text/plain": [
       "<AxesSubplot:>"
      ]
     },
     "execution_count": 4,
     "metadata": {},
     "output_type": "execute_result"
    },
    {
     "data": {
      "image/png": "[encoded data removed]",
      "text/plain": [
       "<Figure size 1296x1296 with 2 Axes>"
      ]
     },
     "metadata": {
      "needs_background": "light"
     },
     "output_type": "display_data"
    }
   ],
   "source": [
    "corr=train.corr()\n",
    "plt.figure(figsize=(18,18))\n",
    "sns.heatmap(corr, \n",
    "        xticklabels=corr.columns,\n",
    "        yticklabels=corr.columns)"
   ]
  },
  {
   "cell_type": "code",
   "execution_count": 5,
   "id": "increased-psychology",
   "metadata": {
    "colab": {
     "base_uri": "https://localhost:8080/",
     "height": 1000
    },
    "id": "addressed-dating",
    "outputId": "3e29d799-8a18-4240-c420-706978aa232e"
   },
   "outputs": [
    {
     "data": {
      "text/plain": [
       "<AxesSubplot:>"
      ]
     },
     "execution_count": 5,
     "metadata": {},
     "output_type": "execute_result"
    },
    {
     "data": {
      "image/png": "[encoded data removed]",
      "text/plain": [
       "<Figure size 1296x1296 with 2 Axes>"
      ]
     },
     "metadata": {
      "needs_background": "light"
     },
     "output_type": "display_data"
    }
   ],
   "source": [
    "train2=train.drop(columns=['ADM_EMERGENCY'])\n",
    "train2=train2.drop(columns=['MAR_UNKNOWN (DEFAULT)'])\n",
    "train2=train2.drop(columns=['NICU'])\n",
    "train2=train2.drop(columns=['AGE_newborn'])\n",
    "train2=train2.drop(columns=['ETH_WHITE'])\n",
    "train2=train2.drop(columns=['REL_UNOBTAINABLE'])\n",
    "train2=train2.drop(columns=['AGE_senior'])\n",
    "\n",
    "corr2=train2.corr()\n",
    "plt.figure(figsize=(18,18))\n",
    "sns.heatmap(corr2, \n",
    "        xticklabels=corr2.columns,\n",
    "        yticklabels=corr2.columns)"
   ]
  },
  {
   "cell_type": "code",
   "execution_count": 6,
   "id": "neural-apple",
   "metadata": {
    "colab": {
     "base_uri": "https://localhost:8080/"
    },
    "id": "complex-central",
    "outputId": "017e32d1-b0ff-4a6f-8ce7-4ccc264e7d30"
   },
   "outputs": [
    {
     "data": {
      "text/plain": [
       "count    50934.000000\n",
       "mean         9.982970\n",
       "std         11.156500\n",
       "min          0.014583\n",
       "25%          3.852083\n",
       "50%          6.557639\n",
       "75%         11.769444\n",
       "max        107.604861\n",
       "Name: LOS, dtype: float64"
      ]
     },
     "execution_count": 6,
     "metadata": {},
     "output_type": "execute_result"
    }
   ],
   "source": [
    "train2.LOS.describe()"
   ]
  },
  {
   "cell_type": "code",
   "execution_count": 7,
   "id": "adjustable-hardware",
   "metadata": {
    "colab": {
     "base_uri": "https://localhost:8080/"
    },
    "id": "oriented-somalia",
    "outputId": "0de78abd-dd4f-42e1-b6ae-cb5dbaba619f"
   },
   "outputs": [
    {
     "data": {
      "text/plain": [
       "LOS                           23917\n",
       "blood                             7\n",
       "circulatory                      17\n",
       "congenital                       10\n",
       "digestive                        12\n",
       "endocrine                        12\n",
       "genitourinary                     8\n",
       "infectious                        8\n",
       "injury                           23\n",
       "mental                           12\n",
       "misc                              9\n",
       "muscular                          8\n",
       "neoplasms                        11\n",
       "nervous                           9\n",
       "pregnancy                        14\n",
       "prenatal                         17\n",
       "respiratory                      10\n",
       "skin                              9\n",
       "GENDER                            2\n",
       "ICU                               2\n",
       "ADM_ELECTIVE                      2\n",
       "ADM_NEWBORN                       2\n",
       "ADM_URGENT                        2\n",
       "INS_Government                    2\n",
       "INS_Medicaid                      2\n",
       "INS_Medicare                      2\n",
       "INS_Private                       2\n",
       "INS_Self Pay                      2\n",
       "REL_NOT SPECIFIED                 2\n",
       "REL_RELIGIOUS                     2\n",
       "ETH_ASIAN                         2\n",
       "ETH_BLACK/AFRICAN AMERICAN        2\n",
       "ETH_HISPANIC/LATINO               2\n",
       "ETH_OTHER/UNKNOWN                 2\n",
       "AGE_middle_adult                  2\n",
       "AGE_young_adult                   2\n",
       "MAR_DIVORCED                      2\n",
       "MAR_LIFE PARTNER                  2\n",
       "MAR_MARRIED                       2\n",
       "MAR_SEPARATED                     2\n",
       "MAR_SINGLE                        2\n",
       "MAR_WIDOWED                       2\n",
       "dtype: int64"
      ]
     },
     "execution_count": 7,
     "metadata": {},
     "output_type": "execute_result"
    }
   ],
   "source": [
    "train2.nunique()"
   ]
  },
  {
   "cell_type": "code",
   "execution_count": 8,
   "id": "instant-determination",
   "metadata": {
    "colab": {
     "base_uri": "https://localhost:8080/"
    },
    "id": "Z328sDPO4OL8",
    "outputId": "3c80414d-6b2d-4878-c322-de6d64e4e3d3"
   },
   "outputs": [
    {
     "name": "stdout",
     "output_type": "stream",
     "text": [
      "<class 'pandas.core.frame.DataFrame'>\n",
      "Int64Index: 50934 entries, 0 to 51036\n",
      "Data columns (total 42 columns):\n",
      " #   Column                      Non-Null Count  Dtype  \n",
      "---  ------                      --------------  -----  \n",
      " 0   LOS                         50934 non-null  float64\n",
      " 1   blood                       50934 non-null  float64\n",
      " 2   circulatory                 50934 non-null  float64\n",
      " 3   congenital                  50934 non-null  float64\n",
      " 4   digestive                   50934 non-null  float64\n",
      " 5   endocrine                   50934 non-null  float64\n",
      " 6   genitourinary               50934 non-null  float64\n",
      " 7   infectious                  50934 non-null  float64\n",
      " 8   injury                      50934 non-null  float64\n",
      " 9   mental                      50934 non-null  float64\n",
      " 10  misc                        50934 non-null  float64\n",
      " 11  muscular                    50934 non-null  float64\n",
      " 12  neoplasms                   50934 non-null  float64\n",
      " 13  nervous                     50934 non-null  float64\n",
      " 14  pregnancy                   50934 non-null  float64\n",
      " 15  prenatal                    50934 non-null  float64\n",
      " 16  respiratory                 50934 non-null  float64\n",
      " 17  skin                        50934 non-null  float64\n",
      " 18  GENDER                      50934 non-null  float64\n",
      " 19  ICU                         50934 non-null  float64\n",
      " 20  ADM_ELECTIVE                50934 non-null  int64  \n",
      " 21  ADM_NEWBORN                 50934 non-null  int64  \n",
      " 22  ADM_URGENT                  50934 non-null  int64  \n",
      " 23  INS_Government              50934 non-null  int64  \n",
      " 24  INS_Medicaid                50934 non-null  int64  \n",
      " 25  INS_Medicare                50934 non-null  int64  \n",
      " 26  INS_Private                 50934 non-null  int64  \n",
      " 27  INS_Self Pay                50934 non-null  int64  \n",
      " 28  REL_NOT SPECIFIED           50934 non-null  int64  \n",
      " 29  REL_RELIGIOUS               50934 non-null  int64  \n",
      " 30  ETH_ASIAN                   50934 non-null  int64  \n",
      " 31  ETH_BLACK/AFRICAN AMERICAN  50934 non-null  int64  \n",
      " 32  ETH_HISPANIC/LATINO         50934 non-null  int64  \n",
      " 33  ETH_OTHER/UNKNOWN           50934 non-null  int64  \n",
      " 34  AGE_middle_adult            50934 non-null  int64  \n",
      " 35  AGE_young_adult             50934 non-null  int64  \n",
      " 36  MAR_DIVORCED                50934 non-null  int64  \n",
      " 37  MAR_LIFE PARTNER            50934 non-null  int64  \n",
      " 38  MAR_MARRIED                 50934 non-null  int64  \n",
      " 39  MAR_SEPARATED               50934 non-null  int64  \n",
      " 40  MAR_SINGLE                  50934 non-null  int64  \n",
      " 41  MAR_WIDOWED                 50934 non-null  int64  \n",
      "dtypes: float64(20), int64(22)\n",
      "memory usage: 16.7 MB\n"
     ]
    }
   ],
   "source": [
    "train2.info()"
   ]
  },
  {
   "cell_type": "code",
   "execution_count": null,
   "id": "wrapped-tiffany",
   "metadata": {
    "colab": {
     "base_uri": "https://localhost:8080/",
     "height": 280
    },
    "id": "developmental-duplicate",
    "outputId": "92d00a60-42f4-46c7-ade5-2a052207e6ed"
   },
   "outputs": [],
   "source": [
    "%matplotlib inline\n",
    "sns.boxplot(x=train2['LOS'], y=train2[\"MAR_WIDOWED\"], data = train)\n",
    "plt.show()"
   ]
  },
  {
   "cell_type": "code",
   "execution_count": 61,
   "id": "developing-bahrain",
   "metadata": {
    "colab": {
     "base_uri": "https://localhost:8080/",
     "height": 266
    },
    "id": "4EUVuzd4-9Ns",
    "outputId": "1d10c128-592a-4dd2-be7f-7c0f1d2f92e8"
   },
   "outputs": [
    {
     "data": {
      "image/png": "[encoded data removed]",
      "text/plain": [
       "<Figure size 432x288 with 1 Axes>"
      ]
     },
     "metadata": {
      "needs_background": "light",
      "tags": []
     },
     "output_type": "display_data"
    }
   ],
   "source": [
    "insurance = train2[['INS_Government', 'INS_Medicaid','INS_Medicare', 'INS_Private','INS_Self Pay']].copy()\n",
    "boxplot = insurance.boxplot()"
   ]
  },
  {
   "cell_type": "code",
   "execution_count": 9,
   "id": "korean-wheat",
   "metadata": {
    "id": "altered-grill"
   },
   "outputs": [
    {
     "name": "stdout",
     "output_type": "stream",
     "text": [
      "Total Dataset Shape -  (50934, 41)\n",
      "Train Set shape -  (40747, 41)\n",
      "Test Set shape -  (10187, 41)\n"
     ]
    }
   ],
   "source": [
    "Y = train2['LOS'].values\n",
    "X = train2.drop(columns=['LOS'])\n",
    "print(\"Total Dataset Shape - \", X.shape)\n",
    "from sklearn.model_selection import train_test_split, GridSearchCV\n",
    "X_train, X_test, y_train, y_test = train_test_split(X, Y, test_size=0.2, random_state=42)\n",
    "print(\"Train Set shape - \", X_train.shape)\n",
    "print(\"Test Set shape - \", X_test.shape)"
   ]
  },
  {
   "cell_type": "code",
   "execution_count": null,
   "id": "worth-bargain",
   "metadata": {
    "id": "introductory-tongue",
    "outputId": "19b825b6-5d68-4821-87ef-1e1f751f60aa"
   },
   "outputs": [
    {
     "name": "stdout",
     "output_type": "stream",
     "text": [
      "Cross-Validatoin Performance - \n",
      "Avergae MSE: (84.827), Std: (4.581)\n",
      "[86.33833066 83.0994207  82.0277603  79.63299763 80.64801847 84.77253291\n",
      " 95.9750763  86.52937859 81.08468335 88.1628727 ]\n",
      "Performance on test set - \n",
      "MSE: 80.736870\n",
      "R2: 0.320258\n"
     ]
    }
   ],
   "source": [
    "from sklearn.linear_model import LinearRegression\n",
    "cv = KFold(n_splits=10, random_state=1, shuffle=True)\n",
    "# create model\n",
    "model = LinearRegression()\n",
    "# evaluate model\n",
    "scores = cross_val_score(model, X_train, y_train, scoring='neg_mean_squared_error', cv=cv, n_jobs=-1)\n",
    "# report performance\n",
    "print(\"Cross-Validatoin Performance - \")\n",
    "print('Avergae MSE: (%.3f), Std: (%.3f)' % (-1*mean(scores), std(scores)))\n",
    "print(-1*scores)\n",
    "model.fit(X_train, y_train)\n",
    "pred=model.predict(X_test);\n",
    "mse = mean_squared_error(y_test, pred)\n",
    "r2s = r2_score(y_test, pred)\n",
    "print(\"Performance on test set - \")\n",
    "print(\"MSE: %f\" % (mse))\n",
    "print(\"R2: %f\" % (r2s))"
   ]
  },
  {
   "cell_type": "code",
   "execution_count": null,
   "id": "federal-flush",
   "metadata": {
    "id": "standard-uniform",
    "outputId": "432b5487-9716-47a1-bda1-a41c45c5f795"
   },
   "outputs": [
    {
     "data": {
      "text/plain": [
       "{'alpha': 1}"
      ]
     },
     "execution_count": 30,
     "metadata": {
      "tags": []
     },
     "output_type": "execute_result"
    }
   ],
   "source": [
    "from sklearn.linear_model import Lasso\n",
    "\n",
    "m3 = Lasso()\n",
    "params = {'alpha': [0.4, 0.6, 0.8, 1] }\n",
    "scorer = make_scorer(mean_squared_error)\n",
    "clf_grid = GridSearchCV(estimator=m3, param_grid=params, scoring=scorer, cv=5)\n",
    "\n",
    "clf_grid.fit(X_train, y_train)\n",
    "best_param = clf_grid.best_params_\n",
    "best_param"
   ]
  },
  {
   "cell_type": "code",
   "execution_count": null,
   "id": "automotive-division",
   "metadata": {
    "id": "inside-impossible",
    "outputId": "ca1fdf6b-ed6c-474a-c8d0-c1347357c756"
   },
   "outputs": [
    {
     "name": "stdout",
     "output_type": "stream",
     "text": [
      "Cross-Validatoin Performance - \n",
      "Avergae MSE: (93.221), Std: (5.059)\n",
      "[ 96.31551509  90.76589628  89.75318692  85.97663016  88.95836889\n",
      "  93.56606187 104.53428747  95.62223045  89.91683688  96.80410916]\n",
      "Performance on test set - \n",
      "MSE: 88.584775\n",
      "R2: 0.254184\n"
     ]
    }
   ],
   "source": [
    "from sklearn.linear_model import Lasso\n",
    "cv3 = KFold(n_splits=10, random_state=1, shuffle=True)\n",
    "# create model\n",
    "model3 = Lasso(alpha=1)\n",
    "# evaluate model\n",
    "scores3 = cross_val_score(model3, X_train, y_train, scoring='neg_mean_squared_error', cv=cv3, n_jobs=-1)\n",
    "\n",
    "# report performance\n",
    "print(\"Cross-Validatoin Performance - \")\n",
    "print('Avergae MSE: (%.3f), Std: (%.3f)' % (-1*mean(scores3), std(scores3)))\n",
    "print(-1*scores3)\n",
    "model3.fit(X_train, y_train)\n",
    "pred3=model3.predict(X_test);\n",
    "mse3 = mean_squared_error(y_test, pred3)\n",
    "r2s3 = r2_score(y_test, pred3)\n",
    "print(\"Performance on test set - \")\n",
    "print(\"MSE: %f\" % (mse3))\n",
    "print(\"R2: %f\" % (r2s3))"
   ]
  },
  {
   "cell_type": "code",
   "execution_count": null,
   "id": "wooden-humor",
   "metadata": {
    "id": "amateur-lodging",
    "outputId": "e34787dc-2f6a-45ca-be70-b2905f6b764a"
   },
   "outputs": [
    {
     "data": {
      "text/plain": [
       "{'alpha': 0.2}"
      ]
     },
     "execution_count": 32,
     "metadata": {
      "tags": []
     },
     "output_type": "execute_result"
    }
   ],
   "source": [
    "from sklearn.linear_model import Ridge\n",
    "m4 = Ridge()\n",
    "params = {'alpha': [0.2, 0.4, 0.6, 0.8, 1] }\n",
    "scorer = make_scorer(mean_squared_error)\n",
    "clf_grid = GridSearchCV(estimator=m4, param_grid=params, scoring=scorer, cv=10)\n",
    "\n",
    "clf_grid.fit(X_train, y_train)\n",
    "best_param = clf_grid.best_params_\n",
    "best_param"
   ]
  },
  {
   "cell_type": "code",
   "execution_count": null,
   "id": "surface-panic",
   "metadata": {
    "id": "technological-wayne",
    "outputId": "1d9a8225-7ba2-4a32-ec22-67a6d5fa495a"
   },
   "outputs": [
    {
     "name": "stdout",
     "output_type": "stream",
     "text": [
      "Cross-Validatoin Performance - \n",
      "Avergae MSE: (84.824), Std: (4.572)\n",
      "[86.31885392 83.10569241 82.02911999 79.63449897 80.65964831 84.78107202\n",
      " 95.95983317 86.54533858 81.08924216 88.11261049]\n",
      "Performance on test set - \n",
      "MSE: 80.737011\n",
      "R2: 0.320256\n"
     ]
    }
   ],
   "source": [
    "from sklearn.linear_model import Ridge\n",
    "cv4 = KFold(n_splits=10, random_state=1, shuffle=True)\n",
    "# create model\n",
    "model4 = Ridge(alpha=0.2)\n",
    "# evaluate model\n",
    "scores4 = cross_val_score(model4, X_train, y_train, scoring='neg_mean_squared_error', cv=cv4, n_jobs=-1)\n",
    "# report performance\n",
    "print(\"Cross-Validatoin Performance - \")\n",
    "print('Avergae MSE: (%.3f), Std: (%.3f)' % (-1*mean(scores4), std(scores4)))\n",
    "print(-1*scores4)\n",
    "model4.fit(X_train, y_train)\n",
    "pred4=model4.predict(X_test);\n",
    "mse4 = mean_squared_error(y_test, pred4)\n",
    "r2s4 = r2_score(y_test, pred4)\n",
    "print(\"Performance on test set - \")\n",
    "print(\"MSE: %f\" % (mse4))\n",
    "print(\"R2: %f\" % (r2s4))"
   ]
  },
  {
   "cell_type": "code",
   "execution_count": null,
   "id": "brilliant-newton",
   "metadata": {
    "id": "corresponding-japanese",
    "outputId": "6c303bb8-00ac-412e-c4b6-c6a073764175"
   },
   "outputs": [
    {
     "data": {
      "text/plain": [
       "{'leaf_size': 5, 'n_neighbors': 5, 'p': 1}"
      ]
     },
     "execution_count": 34,
     "metadata": {
      "tags": []
     },
     "output_type": "execute_result"
    }
   ],
   "source": [
    "from sklearn.neighbors import KNeighborsRegressor\n",
    "m5 = KNeighborsRegressor(n_jobs=-1)\n",
    "params = {'n_neighbors': [5,7,11,15], 'p':[1,2], 'leaf_size':[5,15,25,30,45]}\n",
    "scorer = make_scorer(mean_squared_error)\n",
    "clf_grid = GridSearchCV(estimator=m5, param_grid=params, scoring=scorer, cv=10)\n",
    "\n",
    "clf_grid.fit(X_train, y_train)\n",
    "best_param = clf_grid.best_params_\n",
    "best_param"
   ]
  },
  {
   "cell_type": "code",
   "execution_count": null,
   "id": "gorgeous-contest",
   "metadata": {
    "id": "athletic-digit",
    "outputId": "9d88b140-e22f-4f34-f92a-edb3d9ca2c8d"
   },
   "outputs": [
    {
     "name": "stdout",
     "output_type": "stream",
     "text": [
      "Cross-Validatoin Performance - \n",
      "Avergae MSE: (92.833), Std: (5.254)\n",
      "[ 97.98944568  85.88757291  90.75227029  87.39146019  87.26811143\n",
      "  96.86356607 103.47298733  93.38492904  90.8542695   94.46642408]\n",
      "Performance on test set - \n",
      "MSE: 87.193987\n",
      "R2: 0.265894\n"
     ]
    }
   ],
   "source": [
    "from sklearn.neighbors import KNeighborsRegressor\n",
    "cv5 = KFold(n_splits=10, random_state=1, shuffle=True)\n",
    "# create model\n",
    "model5 = KNeighborsRegressor(leaf_size= 5, n_neighbors= 5, p= 1,n_jobs=-1)\n",
    "# evaluate model\n",
    "scores5 = cross_val_score(model5, X_train, y_train, scoring='neg_mean_squared_error', cv=cv5, n_jobs=-1)\n",
    "# report performance\n",
    "print(\"Cross-Validatoin Performance - \")\n",
    "print('Avergae MSE: (%.3f), Std: (%.3f)' % (-1*mean(scores5), std(scores5)))\n",
    "print(-1*scores5)\n",
    "model5.fit(X_train, y_train)\n",
    "pred5=model5.predict(X_test);\n",
    "mse5 = mean_squared_error(y_test, pred5)\n",
    "r2s5 = r2_score(y_test, pred5)\n",
    "print(\"Performance on test set - \")\n",
    "print(\"MSE: %f\" % (mse5))\n",
    "print(\"R2: %f\" % (r2s5))"
   ]
  },
  {
   "cell_type": "code",
   "execution_count": null,
   "id": "hydraulic-software",
   "metadata": {
    "id": "magnetic-jewel",
    "outputId": "d2cb79aa-30d8-4a43-d04d-92f138ad8778"
   },
   "outputs": [
    {
     "data": {
      "text/plain": [
       "{'max_depth': 10, 'min_samples_leaf': 1}"
      ]
     },
     "execution_count": 43,
     "metadata": {
      "tags": []
     },
     "output_type": "execute_result"
    }
   ],
   "source": [
    "from sklearn.tree import DecisionTreeRegressor\n",
    "m6 = DecisionTreeRegressor()\n",
    "params = {'max_depth': [6,8,10], 'min_samples_leaf':[1,5,10,20,50]}\n",
    "scorer = make_scorer(mean_squared_error)\n",
    "clf_grid = GridSearchCV(estimator=m6, param_grid=params, scoring=scorer, cv=10)\n",
    "\n",
    "clf_grid.fit(X_train, y_train)\n",
    "best_param = clf_grid.best_params_\n",
    "best_param"
   ]
  },
  {
   "cell_type": "code",
   "execution_count": null,
   "id": "drawn-berlin",
   "metadata": {
    "id": "superior-negotiation",
    "outputId": "80d3d9d6-df8f-4ec7-e9cf-c53ade953442"
   },
   "outputs": [
    {
     "name": "stdout",
     "output_type": "stream",
     "text": [
      "Cross-Validatoin Performance - \n",
      "Avergae MSE: (91.999), Std: (6.164)\n",
      "[ 90.48306121  93.41849389  92.20483166  87.8251745   82.63292982\n",
      "  95.85661098 104.0074765   92.58386111  83.19337222  97.7869355 ]\n",
      "Performance on test set - \n",
      "MSE: 89.917556\n",
      "R2: 0.242963\n",
      "Feature: 0, Score: 1.05821\n",
      "Feature: 1, Score: 2.12466\n",
      "Feature: 2, Score: 2.54113\n",
      "Feature: 3, Score: 4.93412\n",
      "Feature: 4, Score: 1.69923\n",
      "Feature: 5, Score: 1.35562\n",
      "Feature: 6, Score: 10.01574\n",
      "Feature: 7, Score: 4.92731\n",
      "Feature: 8, Score: 0.38469\n",
      "Feature: 9, Score: 1.06599\n",
      "Feature: 10, Score: 0.30698\n",
      "Feature: 11, Score: 0.22299\n",
      "Feature: 12, Score: 4.14689\n",
      "Feature: 13, Score: 0.26806\n",
      "Feature: 14, Score: 39.64874\n",
      "Feature: 15, Score: 14.08137\n",
      "Feature: 16, Score: 1.80550\n",
      "Feature: 17, Score: 0.50484\n",
      "Feature: 18, Score: 1.79504\n",
      "Feature: 19, Score: 0.41235\n",
      "Feature: 20, Score: 0.23362\n",
      "Feature: 21, Score: 0.58771\n",
      "Feature: 22, Score: 0.61800\n",
      "Feature: 23, Score: 1.02286\n",
      "Feature: 24, Score: 0.50393\n",
      "Feature: 25, Score: 0.39682\n",
      "Feature: 26, Score: 0.14349\n",
      "Feature: 27, Score: 0.33644\n",
      "Feature: 28, Score: 0.46106\n",
      "Feature: 29, Score: 0.26541\n",
      "Feature: 30, Score: 0.67083\n",
      "Feature: 31, Score: 0.02730\n",
      "Feature: 32, Score: 0.56592\n",
      "Feature: 33, Score: 0.30960\n",
      "Feature: 34, Score: 0.02555\n",
      "Feature: 35, Score: 0.08833\n",
      "Feature: 36, Score: 0.00000\n",
      "Feature: 37, Score: 0.01148\n",
      "Feature: 38, Score: 0.02085\n",
      "Feature: 39, Score: 0.39266\n",
      "Feature: 40, Score: 0.01865\n"
     ]
    },
    {
     "data": {
      "image/png": "[encoded data removed]",
      "text/plain": [
       "<Figure size 432x288 with 1 Axes>"
      ]
     },
     "metadata": {
      "needs_background": "light",
      "tags": []
     },
     "output_type": "display_data"
    }
   ],
   "source": [
    "from sklearn.tree import DecisionTreeRegressor\n",
    "model6 = DecisionTreeRegressor(random_state=0,max_depth = 10, min_samples_leaf = 1)\n",
    "cv6 = KFold(n_splits=10, random_state=1, shuffle=True)\n",
    "# evaluate model\n",
    "scores6 = cross_val_score(model6, X_train, y_train, scoring='neg_mean_squared_error', cv=cv6, n_jobs=-1)\n",
    "# report performance\n",
    "print(\"Cross-Validatoin Performance - \")\n",
    "print('Avergae MSE: (%.3f), Std: (%.3f)' % (-1*mean(scores6), std(scores6)))\n",
    "print(-1*scores6)\n",
    "model6.fit(X_train, y_train)\n",
    "pred6=model6.predict(X_test);\n",
    "mse6 = mean_squared_error(y_test, pred6)\n",
    "r2s6 = r2_score(y_test, pred6)\n",
    "print(\"Performance on test set - \")\n",
    "print(\"MSE: %f\" % (mse6))\n",
    "print(\"R2: %f\" % (r2s6))\n",
    "\n",
    "importance = model6.feature_importances_\n",
    "# summarize feature importance\n",
    "for i,v in enumerate(importance):\n",
    "\tprint('Feature: %0d, Score: %.5f' % (i,100*v))\n",
    "# plot feature importance\n",
    "pyplot.bar([x for x in range(len(importance))], 100*importance)\n",
    "pyplot.show()"
   ]
  },
  {
   "cell_type": "code",
   "execution_count": null,
   "id": "dietary-corner",
   "metadata": {
    "id": "raised-shade",
    "outputId": "2a3c5ac3-7637-44e1-f47b-1d3fcce392bd"
   },
   "outputs": [
    {
     "data": {
      "text/plain": [
       "{'alpha': 0.1, 'eta': 0.1, 'lambda': 0.9, 'max_depth': 10}"
      ]
     },
     "execution_count": 45,
     "metadata": {
      "tags": []
     },
     "output_type": "execute_result"
    }
   ],
   "source": [
    "import xgboost as xgb\n",
    "m7 = xgb.XGBRegressor(random_state=0,n_jobs=-1,tree_method='gpu_hist', gpu_id=0)\n",
    "params = {'max_depth': [10],'eta': [0.05, 0.1], 'lambda': [0.9, 1], 'alpha': [0.1,0.02] }\n",
    "scorer = make_scorer(mean_squared_error)\n",
    "clf_grid = GridSearchCV(estimator=m7, param_grid=params, scoring=scorer, cv=3)\n",
    "\n",
    "clf_grid.fit(X_train, y_train)\n",
    "best_param = clf_grid.best_params_\n",
    "best_param"
   ]
  },
  {
   "cell_type": "code",
   "execution_count": null,
   "id": "injured-indonesian",
   "metadata": {
    "id": "understanding-round",
    "outputId": "1de4c63a-aba5-41f2-b069-bba1772081c8"
   },
   "outputs": [
    {
     "name": "stdout",
     "output_type": "stream",
     "text": [
      "Cross-Validatoin Performance - \n",
      "Avergae MSE: (79.479), Std: (3.695)\n",
      "[81.70358165 76.9868551  76.95338325 77.2394411  73.94794335 81.61912017\n",
      " 87.54907857 82.31552222 77.11287465 79.36293046]\n",
      "Performance on test set - \n",
      "MSE: 75.192617\n",
      "R2: 0.366936\n",
      "Feature: 0, Score: 0.81668\n",
      "Feature: 1, Score: 1.15894\n",
      "Feature: 2, Score: 1.70275\n",
      "Feature: 3, Score: 2.36661\n",
      "Feature: 4, Score: 1.26883\n",
      "Feature: 5, Score: 1.70581\n",
      "Feature: 6, Score: 5.81084\n",
      "Feature: 7, Score: 1.70025\n",
      "Feature: 8, Score: 1.48837\n",
      "Feature: 9, Score: 1.56087\n",
      "Feature: 10, Score: 1.24983\n",
      "Feature: 11, Score: 1.41310\n",
      "Feature: 12, Score: 2.88386\n",
      "Feature: 13, Score: 1.96789\n",
      "Feature: 14, Score: 21.08546\n",
      "Feature: 15, Score: 7.59244\n",
      "Feature: 16, Score: 2.18529\n",
      "Feature: 17, Score: 1.20737\n",
      "Feature: 18, Score: 9.76720\n",
      "Feature: 19, Score: 1.72089\n",
      "Feature: 20, Score: 1.66319\n",
      "Feature: 21, Score: 2.45261\n",
      "Feature: 22, Score: 1.39115\n",
      "Feature: 23, Score: 1.64359\n",
      "Feature: 24, Score: 2.01622\n",
      "Feature: 25, Score: 1.48821\n",
      "Feature: 26, Score: 1.79723\n",
      "Feature: 27, Score: 1.14020\n",
      "Feature: 28, Score: 1.43887\n",
      "Feature: 29, Score: 1.01614\n",
      "Feature: 30, Score: 1.31812\n",
      "Feature: 31, Score: 1.09138\n",
      "Feature: 32, Score: 1.52798\n",
      "Feature: 33, Score: 1.30500\n",
      "Feature: 34, Score: 1.49697\n",
      "Feature: 35, Score: 1.30286\n",
      "Feature: 36, Score: 0.19263\n",
      "Feature: 37, Score: 1.31489\n",
      "Feature: 38, Score: 1.16346\n",
      "Feature: 39, Score: 1.47503\n",
      "Feature: 40, Score: 1.11100\n"
     ]
    },
    {
     "data": {
      "image/png": "[encoded data removed]",
      "text/plain": [
       "<Figure size 432x288 with 1 Axes>"
      ]
     },
     "metadata": {
      "needs_background": "light",
      "tags": []
     },
     "output_type": "display_data"
    }
   ],
   "source": [
    "model7 = xgb.XGBRegressor(random_state=0,n_jobs=-1,tree_method='gpu_hist', gpu_id=0, alpha= 0.1, eta= 0.1, max_depth= 10)\n",
    "cv7 = KFold(n_splits=10, random_state=1, shuffle=True)\n",
    "# evaluate model\n",
    "scores7 = cross_val_score(model7, X_train, y_train, scoring='neg_mean_squared_error', cv=cv7, n_jobs=-1)\n",
    "# report performance\n",
    "print(\"Cross-Validatoin Performance - \")\n",
    "print('Avergae MSE: (%.3f), Std: (%.3f)' % (-1*mean(scores7), std(scores7)))\n",
    "print(-1*scores7)\n",
    "model7.fit(X_train, y_train)\n",
    "pred7=model7.predict(X_test);\n",
    "mse7 = mean_squared_error(y_test, pred7)\n",
    "r2s7 = r2_score(y_test, pred7)\n",
    "print(\"Performance on test set - \")\n",
    "print(\"MSE: %f\" % (mse7))\n",
    "print(\"R2: %f\" % (r2s7))\n",
    "\n",
    "importance = model7.feature_importances_\n",
    "# summarize feature importance\n",
    "for i,v in enumerate(importance):\n",
    "\tprint('Feature: %0d, Score: %.5f' % (i,100*v))\n",
    "# plot feature importance\n",
    "pyplot.bar([x for x in range(len(importance))], 100*importance)\n",
    "pyplot.show()"
   ]
  },
  {
   "cell_type": "code",
   "execution_count": null,
   "id": "super-enforcement",
   "metadata": {
    "id": "dynamic-replacement",
    "outputId": "8436b5a8-64a2-404c-c132-dff99881303c"
   },
   "outputs": [
    {
     "name": "stdout",
     "output_type": "stream",
     "text": [
      "Checking whether there is an H2O instance running at http://localhost:54321 ..... not found.\n",
      "Attempting to start a local H2O server...\n",
      "; Java HotSpot(TM) 64-Bit Server VM (build 25.281-b09, mixed mode)\n",
      "  Starting server from C:\\Users\\tsans\\anaconda3\\envs\\py363\\lib\\site-packages\\h2o\\backend\\bin\\h2o.jar\n",
      "  Ice root: C:\\Users\\tsans\\AppData\\Local\\Temp\\tmpfx7pc6yc\n",
      "  JVM stdout: C:\\Users\\tsans\\AppData\\Local\\Temp\\tmpfx7pc6yc\\h2o_tsans_started_from_python.out\n",
      "  JVM stderr: C:\\Users\\tsans\\AppData\\Local\\Temp\\tmpfx7pc6yc\\h2o_tsans_started_from_python.err\n",
      "  Server is running at http://127.0.0.1:54321\n",
      "Connecting to H2O server at http://127.0.0.1:54321 ... successful.\n"
     ]
    },
    {
     "data": {
      "text/html": [
       "<div style=\"overflow:auto\"><table style=\"width:50%\"><tr><td>H2O_cluster_uptime:</td>\n",
       "<td>01 secs</td></tr>\n",
       "<tr><td>H2O_cluster_timezone:</td>\n",
       "<td>Asia/Kolkata</td></tr>\n",
       "<tr><td>H2O_data_parsing_timezone:</td>\n",
       "<td>UTC</td></tr>\n",
       "<tr><td>H2O_cluster_version:</td>\n",
       "<td>3.32.1.1</td></tr>\n",
       "<tr><td>H2O_cluster_version_age:</td>\n",
       "<td>24 days </td></tr>\n",
       "<tr><td>H2O_cluster_name:</td>\n",
       "<td>H2O_from_python_tsans_pmmkjr</td></tr>\n",
       "<tr><td>H2O_cluster_total_nodes:</td>\n",
       "<td>1</td></tr>\n",
       "<tr><td>H2O_cluster_free_memory:</td>\n",
       "<td>5.333 Gb</td></tr>\n",
       "<tr><td>H2O_cluster_total_cores:</td>\n",
       "<td>12</td></tr>\n",
       "<tr><td>H2O_cluster_allowed_cores:</td>\n",
       "<td>12</td></tr>\n",
       "<tr><td>H2O_cluster_status:</td>\n",
       "<td>accepting new members, healthy</td></tr>\n",
       "<tr><td>H2O_connection_url:</td>\n",
       "<td>http://127.0.0.1:54321</td></tr>\n",
       "<tr><td>H2O_connection_proxy:</td>\n",
       "<td>{\"http\": null, \"https\": null}</td></tr>\n",
       "<tr><td>H2O_internal_security:</td>\n",
       "<td>False</td></tr>\n",
       "<tr><td>H2O_API_Extensions:</td>\n",
       "<td>Amazon S3, Algos, AutoML, Core V3, TargetEncoder, Core V4</td></tr>\n",
       "<tr><td>Python_version:</td>\n",
       "<td>3.6.13 final</td></tr></table></div>"
      ],
      "text/plain": [
       "--------------------------  ---------------------------------------------------------\n",
       "H2O_cluster_uptime:         01 secs\n",
       "H2O_cluster_timezone:       Asia/Kolkata\n",
       "H2O_data_parsing_timezone:  UTC\n",
       "H2O_cluster_version:        3.32.1.1\n",
       "H2O_cluster_version_age:    24 days\n",
       "H2O_cluster_name:           H2O_from_python_tsans_pmmkjr\n",
       "H2O_cluster_total_nodes:    1\n",
       "H2O_cluster_free_memory:    5.333 Gb\n",
       "H2O_cluster_total_cores:    12\n",
       "H2O_cluster_allowed_cores:  12\n",
       "H2O_cluster_status:         accepting new members, healthy\n",
       "H2O_connection_url:         http://127.0.0.1:54321\n",
       "H2O_connection_proxy:       {\"http\": null, \"https\": null}\n",
       "H2O_internal_security:      False\n",
       "H2O_API_Extensions:         Amazon S3, Algos, AutoML, Core V3, TargetEncoder, Core V4\n",
       "Python_version:             3.6.13 final\n",
       "--------------------------  ---------------------------------------------------------"
      ]
     },
     "metadata": {
      "tags": []
     },
     "output_type": "display_data"
    }
   ],
   "source": [
    "import h2o\n",
    "from h2o.automl import H2OAutoML\n",
    "h2o.init(\n",
    "    nthreads=-1,     # number of threads when launching a new H2O server\n",
    "    max_mem_size=6  # in gigabytes\n",
    ")"
   ]
  },
  {
   "cell_type": "code",
   "execution_count": null,
   "id": "ultimate-ethernet",
   "metadata": {
    "id": "jewish-biotechnology",
    "outputId": "fd49b5d4-c2df-4654-abb8-9bd7fd2002c3"
   },
   "outputs": [
    {
     "name": "stdout",
     "output_type": "stream",
     "text": [
      "Parse progress: |█████████████████████████████████████████████████████████| 100%\n",
      "Parse progress: |█████████████████████████████████████████████████████████| 100%\n",
      "done\n"
     ]
    }
   ],
   "source": [
    "train_h2o=pd.DataFrame(data=X_train)\n",
    "train_h2o['LOS']=y_train\n",
    "#X_train, X_test, y_train, y_test\n",
    "h20_train=h2o.H2OFrame(train_h2o)\n",
    "x1 = h20_train.columns\n",
    "y1 = \"LOS\"\n",
    "x1.remove(y1)\n",
    "X_test_test= h2o.H2OFrame(X_test)\n",
    "print('done')\n"
   ]
  },
  {
   "cell_type": "code",
   "execution_count": null,
   "id": "elect-temple",
   "metadata": {
    "id": "noticed-shepherd"
   },
   "outputs": [],
   "source": []
  },
  {
   "cell_type": "code",
   "execution_count": null,
   "id": "billion-rugby",
   "metadata": {
    "id": "labeled-brand",
    "outputId": "65ed3b4c-c464-4301-a4f9-126809910c4b"
   },
   "outputs": [
    {
     "name": "stdout",
     "output_type": "stream",
     "text": [
      "AutoML progress: |\n",
      "23:09:17.38: AutoML: XGBoost is not available; skipping it.\n",
      "\n",
      "████████████████████████████████████████████████████████| 100%\n"
     ]
    }
   ],
   "source": [
    "aml = H2OAutoML(max_models=12, seed=1)\n",
    "aml.train(x=x1, y=y1, training_frame=h20_train)"
   ]
  },
  {
   "cell_type": "code",
   "execution_count": null,
   "id": "collected-elite",
   "metadata": {
    "id": "alpha-tuner",
    "outputId": "172f8900-ed5a-4a0f-ba40-f7f9ce48692b"
   },
   "outputs": [
    {
     "data": {
      "text/html": [
       "<table>\n",
       "<thead>\n",
       "<tr><th>model_id                                           </th><th style=\"text-align: right;\">  mean_residual_deviance</th><th style=\"text-align: right;\">   rmse</th><th style=\"text-align: right;\">    mse</th><th style=\"text-align: right;\">    mae</th><th style=\"text-align: right;\">     rmsle</th></tr>\n",
       "</thead>\n",
       "<tbody>\n",
       "<tr><td>StackedEnsemble_AllModels_AutoML_20210418_230917   </td><td style=\"text-align: right;\">                 75.2613</td><td style=\"text-align: right;\">8.67533</td><td style=\"text-align: right;\">75.2613</td><td style=\"text-align: right;\">5.24994</td><td style=\"text-align: right;\">  0.627581</td></tr>\n",
       "<tr><td>StackedEnsemble_BestOfFamily_AutoML_20210418_230917</td><td style=\"text-align: right;\">                 75.48  </td><td style=\"text-align: right;\">8.68792</td><td style=\"text-align: right;\">75.48  </td><td style=\"text-align: right;\">5.27148</td><td style=\"text-align: right;\">  0.630082</td></tr>\n",
       "<tr><td>GBM_grid__1_AutoML_20210418_230917_model_2         </td><td style=\"text-align: right;\">                 76.6106</td><td style=\"text-align: right;\">8.75275</td><td style=\"text-align: right;\">76.6106</td><td style=\"text-align: right;\">5.33735</td><td style=\"text-align: right;\">  0.638462</td></tr>\n",
       "<tr><td>GBM_2_AutoML_20210418_230917                       </td><td style=\"text-align: right;\">                 76.7525</td><td style=\"text-align: right;\">8.76085</td><td style=\"text-align: right;\">76.7525</td><td style=\"text-align: right;\">5.30019</td><td style=\"text-align: right;\">  0.6335  </td></tr>\n",
       "<tr><td>GBM_grid__1_AutoML_20210418_230917_model_1         </td><td style=\"text-align: right;\">                 76.8502</td><td style=\"text-align: right;\">8.76642</td><td style=\"text-align: right;\">76.8502</td><td style=\"text-align: right;\">5.32097</td><td style=\"text-align: right;\">  0.636582</td></tr>\n",
       "<tr><td>GBM_5_AutoML_20210418_230917                       </td><td style=\"text-align: right;\">                 77.0031</td><td style=\"text-align: right;\">8.77514</td><td style=\"text-align: right;\">77.0031</td><td style=\"text-align: right;\">5.30865</td><td style=\"text-align: right;\">  0.63133 </td></tr>\n",
       "<tr><td>GBM_3_AutoML_20210418_230917                       </td><td style=\"text-align: right;\">                 77.021 </td><td style=\"text-align: right;\">8.77616</td><td style=\"text-align: right;\">77.021 </td><td style=\"text-align: right;\">5.30282</td><td style=\"text-align: right;\">  0.633636</td></tr>\n",
       "<tr><td>GBM_1_AutoML_20210418_230917                       </td><td style=\"text-align: right;\">                 77.0817</td><td style=\"text-align: right;\">8.77962</td><td style=\"text-align: right;\">77.0817</td><td style=\"text-align: right;\">5.30904</td><td style=\"text-align: right;\">  0.634251</td></tr>\n",
       "<tr><td>GBM_4_AutoML_20210418_230917                       </td><td style=\"text-align: right;\">                 77.8031</td><td style=\"text-align: right;\">8.82061</td><td style=\"text-align: right;\">77.8031</td><td style=\"text-align: right;\">5.31995</td><td style=\"text-align: right;\">  0.632142</td></tr>\n",
       "<tr><td>DRF_1_AutoML_20210418_230917                       </td><td style=\"text-align: right;\">                 80.2448</td><td style=\"text-align: right;\">8.95795</td><td style=\"text-align: right;\">80.2448</td><td style=\"text-align: right;\">5.41877</td><td style=\"text-align: right;\">  0.640239</td></tr>\n",
       "<tr><td>DeepLearning_1_AutoML_20210418_230917              </td><td style=\"text-align: right;\">                 80.6545</td><td style=\"text-align: right;\">8.98078</td><td style=\"text-align: right;\">80.6545</td><td style=\"text-align: right;\">5.55432</td><td style=\"text-align: right;\">  0.664213</td></tr>\n",
       "<tr><td>DeepLearning_grid__1_AutoML_20210418_230917_model_1</td><td style=\"text-align: right;\">                 82.2073</td><td style=\"text-align: right;\">9.06683</td><td style=\"text-align: right;\">82.2073</td><td style=\"text-align: right;\">5.61576</td><td style=\"text-align: right;\">nan       </td></tr>\n",
       "<tr><td>XRT_1_AutoML_20210418_230917                       </td><td style=\"text-align: right;\">                 82.3878</td><td style=\"text-align: right;\">9.07677</td><td style=\"text-align: right;\">82.3878</td><td style=\"text-align: right;\">5.95227</td><td style=\"text-align: right;\">  0.69734 </td></tr>\n",
       "<tr><td>GLM_1_AutoML_20210418_230917                       </td><td style=\"text-align: right;\">                 84.8236</td><td style=\"text-align: right;\">9.20997</td><td style=\"text-align: right;\">84.8236</td><td style=\"text-align: right;\">5.77835</td><td style=\"text-align: right;\">nan       </td></tr>\n",
       "</tbody>\n",
       "</table>"
      ]
     },
     "metadata": {
      "tags": []
     },
     "output_type": "display_data"
    },
    {
     "data": {
      "text/plain": []
     },
     "execution_count": 29,
     "metadata": {
      "tags": []
     },
     "output_type": "execute_result"
    }
   ],
   "source": [
    "lb = aml.leaderboard\n",
    "lb.head(rows=lb.nrows)"
   ]
  },
  {
   "cell_type": "code",
   "execution_count": null,
   "id": "impressed-pledge",
   "metadata": {
    "id": "resident-dallas",
    "outputId": "e4a1f49d-9b2c-4693-b249-82cd0aac1429"
   },
   "outputs": [
    {
     "name": "stdout",
     "output_type": "stream",
     "text": [
      "stackedensemble prediction progress: |████████████████████████████████████| 100%\n",
      "stackedensemble prediction progress: |████████████████████████████████████| 100%\n"
     ]
    }
   ],
   "source": [
    "predleader = aml.leader.predict(X_test_test)\n",
    "pred = aml.predict(X_test_test)"
   ]
  },
  {
   "cell_type": "code",
   "execution_count": null,
   "id": "atmospheric-monthly",
   "metadata": {
    "id": "according-school"
   },
   "outputs": [],
   "source": [
    "dfpred = h2o.as_list(predleader)\n",
    "mse8 = mean_squared_error(y_test, dfpred)\n",
    "r2s8 = r2_score(y_test, dfpred)"
   ]
  },
  {
   "cell_type": "code",
   "execution_count": null,
   "id": "catholic-radius",
   "metadata": {
    "id": "moderate-toyota",
    "outputId": "6a7f19d6-46ea-481e-c324-88544fff949a"
   },
   "outputs": [
    {
     "name": "stdout",
     "output_type": "stream",
     "text": [
      "Performance on test set - \n",
      "MSE: 71.344349\n",
      "R2: 0.399335\n"
     ]
    }
   ],
   "source": [
    "print(\"Performance on test set - \")\n",
    "print(\"MSE: %f\" % (mse8))\n",
    "print(\"R2: %f\" % (r2s8))"
   ]
  },
  {
   "cell_type": "code",
   "execution_count": null,
   "id": "sunset-research",
   "metadata": {
    "id": "traditional-sunset",
    "outputId": "7a441d50-2870-4e14-9267-a57a5258088e"
   },
   "outputs": [
    {
     "name": "stderr",
     "output_type": "stream",
     "text": [
      "C:\\Users\\tsans\\anaconda3\\envs\\py363\\lib\\site-packages\\ipykernel_launcher.py:1: H2ODeprecationWarning: Deprecated, use ``h2o.cluster().shutdown()``.\n",
      "  \"\"\"Entry point for launching an IPython kernel.\n"
     ]
    },
    {
     "name": "stdout",
     "output_type": "stream",
     "text": [
      "H2O session _sid_ab6d closed.\n"
     ]
    }
   ],
   "source": [
    "h2o.shutdown()"
   ]
  },
  {
   "cell_type": "code",
   "execution_count": null,
   "id": "fatty-shoulder",
   "metadata": {
    "id": "automated-hypothetical"
   },
   "outputs": [],
   "source": [
    "from tensorflow import keras\n",
    "from tensorflow.keras import layers\n",
    "from tensorflow.keras.layers.experimental import preprocessing\n",
    "from scipy.stats import zscore\n",
    "from tensorflow.keras.models import Sequential\n",
    "from tensorflow.keras.layers import Dense, Activation\n",
    "from tensorflow.keras.callbacks import EarlyStopping\n",
    "from sklearn.utils import shuffle"
   ]
  },
  {
   "cell_type": "code",
   "execution_count": null,
   "id": "brazilian-bottom",
   "metadata": {
    "id": "exceptional-paraguay",
    "outputId": "c4e77296-38e6-4471-c922-ac310d916ff0"
   },
   "outputs": [
    {
     "name": "stdout",
     "output_type": "stream",
     "text": [
      "Total Dataset Shape -  (50934, 41)\n",
      "Train Set shape -  (40747, 41)\n",
      "Test Set shape -  (10187, 41)\n"
     ]
    }
   ],
   "source": [
    "Y = train2['LOS'].values\n",
    "X = train2.drop(columns=['LOS'])\n",
    "print(\"Total Dataset Shape - \", X.shape)\n",
    "X_train, X_test, y_train, y_test = train_test_split(X, Y, test_size=0.2, random_state=42)\n",
    "print(\"Train Set shape - \", X_train.shape)\n",
    "print(\"Test Set shape - \", X_test.shape)"
   ]
  },
  {
   "cell_type": "code",
   "execution_count": null,
   "id": "incorporated-westminster",
   "metadata": {
    "id": "acute-newcastle",
    "outputId": "089eea84-ce4c-42fe-c7e7-deb8b53bd944"
   },
   "outputs": [
    {
     "name": "stdout",
     "output_type": "stream",
     "text": [
      "Epoch 1/200\n",
      "1083/1083 - 1s - loss: 87.1414 - val_loss: 79.2750\n",
      "Epoch 2/200\n",
      "1083/1083 - 1s - loss: 82.0754 - val_loss: 77.0274\n",
      "Epoch 3/200\n",
      "1083/1083 - 1s - loss: 79.9320 - val_loss: 80.7134\n",
      "Epoch 4/200\n",
      "1083/1083 - 1s - loss: 79.0281 - val_loss: 76.1055\n",
      "Epoch 5/200\n",
      "1083/1083 - 1s - loss: 78.2042 - val_loss: 80.1708\n",
      "Epoch 6/200\n",
      "1083/1083 - 1s - loss: 77.2554 - val_loss: 75.1798\n",
      "Epoch 7/200\n",
      "1083/1083 - 1s - loss: 76.9352 - val_loss: 80.4115\n",
      "Epoch 8/200\n",
      "1083/1083 - 1s - loss: 75.7805 - val_loss: 76.3678\n",
      "Epoch 9/200\n",
      "1083/1083 - 1s - loss: 75.6310 - val_loss: 76.1200\n",
      "Epoch 10/200\n",
      "1083/1083 - 1s - loss: 74.4583 - val_loss: 76.9306\n",
      "Epoch 11/200\n",
      "Restoring model weights from the end of the best epoch.\n",
      "1083/1083 - 1s - loss: 73.8212 - val_loss: 77.8696\n",
      "Epoch 00011: early stopping\n"
     ]
    },
    {
     "data": {
      "text/plain": [
       "<tensorflow.python.keras.callbacks.History at 0x2749a88e7b8>"
      ]
     },
     "execution_count": 70,
     "metadata": {
      "tags": []
     },
     "output_type": "execute_result"
    }
   ],
   "source": [
    "model = Sequential()\n",
    "model.add(Dense(64, input_dim=X_train.shape[1], activation='relu'))\n",
    "#model.add(Dense(1024, activation='relu'))\n",
    "#model.add(Dense(512, activation='relu'))\n",
    "#model.add(Dense(1024, activation='relu'))\n",
    "model.add(Dense(512, activation='relu'))\n",
    "model.add(Dense(64, activation='relu'))\n",
    "model.add(Dense(1)) # Output\n",
    "opt = keras.optimizers.Adam(learning_rate=0.01)\n",
    "model.compile(optimizer=opt,loss='mean_squared_error')\n",
    "estp = EarlyStopping(monitor='val_loss', min_delta=0,patience=5, verbose=1, mode='auto',restore_best_weights=True)\n",
    "model.fit(X_train,y_train,validation_split=0.15,shuffle='True',verbose=2,epochs=200, callbacks=[estp])"
   ]
  },
  {
   "cell_type": "code",
   "execution_count": null,
   "id": "future-kelly",
   "metadata": {
    "id": "absolute-silly",
    "outputId": "37df41e0-f12f-403b-f313-1b8a505a61a8"
   },
   "outputs": [
    {
     "name": "stdout",
     "output_type": "stream",
     "text": [
      "Model: \"sequential_19\"\n",
      "_________________________________________________________________\n",
      "Layer (type)                 Output Shape              Param #   \n",
      "=================================================================\n",
      "dense_88 (Dense)             (None, 64)                2688      \n",
      "_________________________________________________________________\n",
      "dense_89 (Dense)             (None, 512)               33280     \n",
      "_________________________________________________________________\n",
      "dense_90 (Dense)             (None, 64)                32832     \n",
      "_________________________________________________________________\n",
      "dense_91 (Dense)             (None, 1)                 65        \n",
      "=================================================================\n",
      "Total params: 68,865\n",
      "Trainable params: 68,865\n",
      "Non-trainable params: 0\n",
      "_________________________________________________________________\n"
     ]
    }
   ],
   "source": [
    "model.summary()"
   ]
  },
  {
   "cell_type": "code",
   "execution_count": null,
   "id": "postal-netscape",
   "metadata": {
    "id": "laden-encyclopedia"
   },
   "outputs": [],
   "source": [
    "pred9 = model.predict(X_test)\n",
    "mse9 = mean_squared_error(y_test, pred9)\n",
    "r2s9 = r2_score(y_test, pred9)"
   ]
  },
  {
   "cell_type": "code",
   "execution_count": null,
   "id": "rapid-assault",
   "metadata": {
    "id": "antique-aside",
    "outputId": "6d87b377-025f-43c3-a8fc-5546ab503d7c"
   },
   "outputs": [
    {
     "name": "stdout",
     "output_type": "stream",
     "text": [
      "Performance on test set - \n",
      "MSE: 74.571474\n",
      "R2: 0.372165\n"
     ]
    }
   ],
   "source": [
    "print(\"Performance on test set - \")\n",
    "print(\"MSE: %f\" % (mse9))\n",
    "print(\"R2: %f\" % (r2s9))"
   ]
  },
  {
   "cell_type": "code",
   "execution_count": 12,
   "id": "substantial-phoenix",
   "metadata": {
    "id": "valued-theology"
   },
   "outputs": [
    {
     "data": {
      "text/plain": [
       "{'max_depth': 8, 'min_samples_leaf': 20, 'n_jobs': -1}"
      ]
     },
     "execution_count": 12,
     "metadata": {},
     "output_type": "execute_result"
    }
   ],
   "source": [
    "from sklearn.ensemble import RandomForestRegressor\n",
    "m6 = RandomForestRegressor()\n",
    "params = {'max_depth': [8,10], 'min_samples_leaf':[5,10,20], 'n_jobs':[-1] }\n",
    "scorer = make_scorer(mean_squared_error)\n",
    "clf_grid = GridSearchCV(estimator=m6, param_grid=params, scoring=scorer, cv=10)\n",
    "\n",
    "clf_grid.fit(X_train, y_train)\n",
    "best_param = clf_grid.best_params_\n",
    "best_param"
   ]
  },
  {
   "cell_type": "code",
   "execution_count": 17,
   "id": "spread-container",
   "metadata": {},
   "outputs": [
    {
     "name": "stdout",
     "output_type": "stream",
     "text": [
      "Cross-Validatoin Performance - \n",
      "Avergae MSE: (80.511), Std: (3.955)\n",
      "[80.87619701 79.83891909 79.77666988 77.80566044 73.99302857 82.45182817\n",
      " 89.44769776 82.15626557 76.49900623 82.26431406]\n",
      "Performance on test set - \n",
      "MSE: 77.658753\n",
      "R2: 0.346173\n"
     ]
    }
   ],
   "source": [
    "model9 = RandomForestRegressor(random_state=0,n_jobs=-1, max_depth= 8, min_samples_leaf= 20)\n",
    "cv9 = KFold(n_splits=10, random_state=1, shuffle=True)\n",
    "# evaluate model\n",
    "scores9 = cross_val_score(model9, X_train, y_train, scoring='neg_mean_squared_error', cv=cv9, n_jobs=-1)\n",
    "# report performance\n",
    "print(\"Cross-Validatoin Performance - \")\n",
    "print('Avergae MSE: (%.3f), Std: (%.3f)' % (-1*mean(scores9), std(scores9)))\n",
    "print(-1*scores9)\n",
    "model9.fit(X_train, y_train)\n",
    "pred9=model9.predict(X_test);\n",
    "mse9 = mean_squared_error(y_test, pred9)\n",
    "r2s9 = r2_score(y_test, pred9)\n",
    "print(\"Performance on test set - \")\n",
    "print(\"MSE: %f\" % (mse9))\n",
    "print(\"R2: %f\" % (r2s9))"
   ]
  },
  {
   "cell_type": "code",
   "execution_count": null,
   "id": "crazy-casino",
   "metadata": {},
   "outputs": [],
   "source": []
  }
 ],
 "metadata": {
  "colab": {
   "collapsed_sections": [],
   "name": "Final.ipynb",
   "provenance": [],
   "toc_visible": true
  },
  "kernelspec": {
   "display_name": "Python 3",
   "language": "python",
   "name": "python3"
  },
  "language_info": {
   "codemirror_mode": {
    "name": "ipython",
    "version": 3
   },
   "file_extension": ".py",
   "mimetype": "text/x-python",
   "name": "python",
   "nbconvert_exporter": "python",
   "pygments_lexer": "ipython3",
   "version": "3.6.13"
  }
 },
 "nbformat": 4,
 "nbformat_minor": 5
}
